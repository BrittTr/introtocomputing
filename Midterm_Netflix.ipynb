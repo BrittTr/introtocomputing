{
 "cells": [
  {
   "cell_type": "code",
   "execution_count": 1,
   "id": "8ada1fb3",
   "metadata": {
    "scrolled": false
   },
   "outputs": [],
   "source": [
    "import pandas as pd\n",
    "\n",
    "df = pd.read_csv('ViewingActivity.csv')"
   ]
  },
  {
   "cell_type": "code",
   "execution_count": 2,
   "id": "b1e38f6c",
   "metadata": {},
   "outputs": [
    {
     "data": {
      "text/plain": [
       "(43134, 10)"
      ]
     },
     "execution_count": 2,
     "metadata": {},
     "output_type": "execute_result"
    }
   ],
   "source": [
    "df.shape"
   ]
  },
  {
   "cell_type": "code",
   "execution_count": 3,
   "id": "203d03aa",
   "metadata": {
    "scrolled": true
   },
   "outputs": [
    {
     "data": {
      "text/html": [
       "<div>\n",
       "<style scoped>\n",
       "    .dataframe tbody tr th:only-of-type {\n",
       "        vertical-align: middle;\n",
       "    }\n",
       "\n",
       "    .dataframe tbody tr th {\n",
       "        vertical-align: top;\n",
       "    }\n",
       "\n",
       "    .dataframe thead th {\n",
       "        text-align: right;\n",
       "    }\n",
       "</style>\n",
       "<table border=\"1\" class=\"dataframe\">\n",
       "  <thead>\n",
       "    <tr style=\"text-align: right;\">\n",
       "      <th></th>\n",
       "      <th>Profile Name</th>\n",
       "      <th>Start Time</th>\n",
       "      <th>Duration</th>\n",
       "      <th>Attributes</th>\n",
       "      <th>Title</th>\n",
       "      <th>Supplemental Video Type</th>\n",
       "      <th>Device Type</th>\n",
       "      <th>Bookmark</th>\n",
       "      <th>Latest Bookmark</th>\n",
       "      <th>Country</th>\n",
       "    </tr>\n",
       "  </thead>\n",
       "  <tbody>\n",
       "    <tr>\n",
       "      <th>0</th>\n",
       "      <td>Grandpa</td>\n",
       "      <td>2021-09-12 14:41:50</td>\n",
       "      <td>00:23:22</td>\n",
       "      <td>NaN</td>\n",
       "      <td>The 100: Season 1: The Calm (Episode 11)</td>\n",
       "      <td>NaN</td>\n",
       "      <td>Chrome PC (Cadmium)</td>\n",
       "      <td>00:36:36</td>\n",
       "      <td>00:36:36</td>\n",
       "      <td>CO (Colombia)</td>\n",
       "    </tr>\n",
       "    <tr>\n",
       "      <th>1</th>\n",
       "      <td>Grandpa</td>\n",
       "      <td>2021-09-12 00:14:47</td>\n",
       "      <td>00:12:30</td>\n",
       "      <td>NaN</td>\n",
       "      <td>The 100: Season 1: The Calm (Episode 11)</td>\n",
       "      <td>NaN</td>\n",
       "      <td>Chrome PC (Cadmium)</td>\n",
       "      <td>00:13:14</td>\n",
       "      <td>Not latest view</td>\n",
       "      <td>CO (Colombia)</td>\n",
       "    </tr>\n",
       "    <tr>\n",
       "      <th>2</th>\n",
       "      <td>Grandpa</td>\n",
       "      <td>2021-09-11 23:33:55</td>\n",
       "      <td>00:40:51</td>\n",
       "      <td>NaN</td>\n",
       "      <td>The 100: Season 1: I Am Become Death (Episode 10)</td>\n",
       "      <td>NaN</td>\n",
       "      <td>Chrome PC (Cadmium)</td>\n",
       "      <td>00:41:12</td>\n",
       "      <td>00:41:12</td>\n",
       "      <td>CO (Colombia)</td>\n",
       "    </tr>\n",
       "    <tr>\n",
       "      <th>3</th>\n",
       "      <td>Grandpa</td>\n",
       "      <td>2021-09-11 23:00:09</td>\n",
       "      <td>00:33:44</td>\n",
       "      <td>NaN</td>\n",
       "      <td>The 100: Season 1: Unity Day (Episode 9)</td>\n",
       "      <td>NaN</td>\n",
       "      <td>Chrome PC (Cadmium)</td>\n",
       "      <td>00:39:41</td>\n",
       "      <td>00:39:41</td>\n",
       "      <td>CO (Colombia)</td>\n",
       "    </tr>\n",
       "    <tr>\n",
       "      <th>4</th>\n",
       "      <td>Grandpa</td>\n",
       "      <td>2021-09-11 20:33:52</td>\n",
       "      <td>00:05:07</td>\n",
       "      <td>NaN</td>\n",
       "      <td>The 100: Season 1: Unity Day (Episode 9)</td>\n",
       "      <td>NaN</td>\n",
       "      <td>Chrome PC (Cadmium)</td>\n",
       "      <td>00:05:56</td>\n",
       "      <td>Not latest view</td>\n",
       "      <td>CO (Colombia)</td>\n",
       "    </tr>\n",
       "  </tbody>\n",
       "</table>\n",
       "</div>"
      ],
      "text/plain": [
       "  Profile Name           Start Time  Duration Attributes  \\\n",
       "0      Grandpa  2021-09-12 14:41:50  00:23:22        NaN   \n",
       "1      Grandpa  2021-09-12 00:14:47  00:12:30        NaN   \n",
       "2      Grandpa  2021-09-11 23:33:55  00:40:51        NaN   \n",
       "3      Grandpa  2021-09-11 23:00:09  00:33:44        NaN   \n",
       "4      Grandpa  2021-09-11 20:33:52  00:05:07        NaN   \n",
       "\n",
       "                                               Title Supplemental Video Type  \\\n",
       "0           The 100: Season 1: The Calm (Episode 11)                     NaN   \n",
       "1           The 100: Season 1: The Calm (Episode 11)                     NaN   \n",
       "2  The 100: Season 1: I Am Become Death (Episode 10)                     NaN   \n",
       "3           The 100: Season 1: Unity Day (Episode 9)                     NaN   \n",
       "4           The 100: Season 1: Unity Day (Episode 9)                     NaN   \n",
       "\n",
       "           Device Type  Bookmark  Latest Bookmark        Country  \n",
       "0  Chrome PC (Cadmium)  00:36:36         00:36:36  CO (Colombia)  \n",
       "1  Chrome PC (Cadmium)  00:13:14  Not latest view  CO (Colombia)  \n",
       "2  Chrome PC (Cadmium)  00:41:12         00:41:12  CO (Colombia)  \n",
       "3  Chrome PC (Cadmium)  00:39:41         00:39:41  CO (Colombia)  \n",
       "4  Chrome PC (Cadmium)  00:05:56  Not latest view  CO (Colombia)  "
      ]
     },
     "execution_count": 3,
     "metadata": {},
     "output_type": "execute_result"
    }
   ],
   "source": [
    "df.head()"
   ]
  },
  {
   "cell_type": "code",
   "execution_count": 4,
   "id": "8a02dde1",
   "metadata": {},
   "outputs": [
    {
     "data": {
      "text/html": [
       "<div>\n",
       "<style scoped>\n",
       "    .dataframe tbody tr th:only-of-type {\n",
       "        vertical-align: middle;\n",
       "    }\n",
       "\n",
       "    .dataframe tbody tr th {\n",
       "        vertical-align: top;\n",
       "    }\n",
       "\n",
       "    .dataframe thead th {\n",
       "        text-align: right;\n",
       "    }\n",
       "</style>\n",
       "<table border=\"1\" class=\"dataframe\">\n",
       "  <thead>\n",
       "    <tr style=\"text-align: right;\">\n",
       "      <th></th>\n",
       "      <th>Profile Name</th>\n",
       "      <th>Start Time</th>\n",
       "      <th>Duration</th>\n",
       "      <th>Title</th>\n",
       "    </tr>\n",
       "  </thead>\n",
       "  <tbody>\n",
       "    <tr>\n",
       "      <th>0</th>\n",
       "      <td>Grandpa</td>\n",
       "      <td>2021-09-12 14:41:50</td>\n",
       "      <td>00:23:22</td>\n",
       "      <td>The 100: Season 1: The Calm (Episode 11)</td>\n",
       "    </tr>\n",
       "  </tbody>\n",
       "</table>\n",
       "</div>"
      ],
      "text/plain": [
       "  Profile Name           Start Time  Duration  \\\n",
       "0      Grandpa  2021-09-12 14:41:50  00:23:22   \n",
       "\n",
       "                                      Title  \n",
       "0  The 100: Season 1: The Calm (Episode 11)  "
      ]
     },
     "execution_count": 4,
     "metadata": {},
     "output_type": "execute_result"
    }
   ],
   "source": [
    "# Dropping everything as the Netflix example except 'Profile Names' for later analysis\n",
    "df = df.drop(['Attributes', 'Supplemental Video Type', 'Device Type', 'Bookmark', 'Latest Bookmark', 'Country'], axis=1)\n",
    "\n",
    "df.head(1)"
   ]
  },
  {
   "cell_type": "code",
   "execution_count": 5,
   "id": "dde5ee0e",
   "metadata": {},
   "outputs": [
    {
     "data": {
      "text/plain": [
       "Profile Name                 object\n",
       "Start Time      datetime64[ns, UTC]\n",
       "Duration                     object\n",
       "Title                        object\n",
       "dtype: object"
      ]
     },
     "execution_count": 5,
     "metadata": {},
     "output_type": "execute_result"
    }
   ],
   "source": [
    "df['Start Time'] = pd.to_datetime(df['Start Time'], utc=True)\n",
    "\n",
    "df.dtypes"
   ]
  },
  {
   "cell_type": "code",
   "execution_count": 6,
   "id": "30d94754",
   "metadata": {
    "scrolled": true
   },
   "outputs": [
    {
     "data": {
      "text/html": [
       "<div>\n",
       "<style scoped>\n",
       "    .dataframe tbody tr th:only-of-type {\n",
       "        vertical-align: middle;\n",
       "    }\n",
       "\n",
       "    .dataframe tbody tr th {\n",
       "        vertical-align: top;\n",
       "    }\n",
       "\n",
       "    .dataframe thead th {\n",
       "        text-align: right;\n",
       "    }\n",
       "</style>\n",
       "<table border=\"1\" class=\"dataframe\">\n",
       "  <thead>\n",
       "    <tr style=\"text-align: right;\">\n",
       "      <th></th>\n",
       "      <th>Start Time</th>\n",
       "      <th>Profile Name</th>\n",
       "      <th>Duration</th>\n",
       "      <th>Title</th>\n",
       "    </tr>\n",
       "  </thead>\n",
       "  <tbody>\n",
       "    <tr>\n",
       "      <th>0</th>\n",
       "      <td>2021-09-12 10:41:50-04:00</td>\n",
       "      <td>Grandpa</td>\n",
       "      <td>00:23:22</td>\n",
       "      <td>The 100: Season 1: The Calm (Episode 11)</td>\n",
       "    </tr>\n",
       "  </tbody>\n",
       "</table>\n",
       "</div>"
      ],
      "text/plain": [
       "                 Start Time Profile Name  Duration  \\\n",
       "0 2021-09-12 10:41:50-04:00      Grandpa  00:23:22   \n",
       "\n",
       "                                      Title  \n",
       "0  The 100: Season 1: The Calm (Episode 11)  "
      ]
     },
     "execution_count": 6,
     "metadata": {},
     "output_type": "execute_result"
    }
   ],
   "source": [
    "df = df.set_index('Start Time')\n",
    "\n",
    "df.index = df.index.tz_convert('US/Eastern')\n",
    "\n",
    "df = df.reset_index()\n",
    "\n",
    "df.head(1)"
   ]
  },
  {
   "cell_type": "code",
   "execution_count": 7,
   "id": "cf591a1e",
   "metadata": {
    "scrolled": true
   },
   "outputs": [
    {
     "data": {
      "text/plain": [
       "Start Time      datetime64[ns, US/Eastern]\n",
       "Profile Name                        object\n",
       "Duration                   timedelta64[ns]\n",
       "Title                               object\n",
       "dtype: object"
      ]
     },
     "execution_count": 7,
     "metadata": {},
     "output_type": "execute_result"
    }
   ],
   "source": [
    "df['Duration'] = pd.to_timedelta(df['Duration'])\n",
    "\n",
    "df.dtypes"
   ]
  },
  {
   "cell_type": "code",
   "execution_count": 8,
   "id": "d690fe48",
   "metadata": {},
   "outputs": [
    {
     "data": {
      "text/html": [
       "<div>\n",
       "<style scoped>\n",
       "    .dataframe tbody tr th:only-of-type {\n",
       "        vertical-align: middle;\n",
       "    }\n",
       "\n",
       "    .dataframe tbody tr th {\n",
       "        vertical-align: top;\n",
       "    }\n",
       "\n",
       "    .dataframe thead th {\n",
       "        text-align: right;\n",
       "    }\n",
       "</style>\n",
       "<table border=\"1\" class=\"dataframe\">\n",
       "  <thead>\n",
       "    <tr style=\"text-align: right;\">\n",
       "      <th></th>\n",
       "      <th>Start Time</th>\n",
       "      <th>Profile Name</th>\n",
       "      <th>Duration</th>\n",
       "      <th>Title</th>\n",
       "    </tr>\n",
       "  </thead>\n",
       "  <tbody>\n",
       "    <tr>\n",
       "      <th>14025</th>\n",
       "      <td>2018-10-12 20:47:00-04:00</td>\n",
       "      <td>Seeking</td>\n",
       "      <td>0 days 00:08:10</td>\n",
       "      <td>The Office (U.S.): Season 3: The Merger (Episo...</td>\n",
       "    </tr>\n",
       "    <tr>\n",
       "      <th>12740</th>\n",
       "      <td>2019-11-22 16:31:02-05:00</td>\n",
       "      <td>Seeking</td>\n",
       "      <td>0 days 00:21:28</td>\n",
       "      <td>The Office (U.S.): Season 6: The Cover-Up (Epi...</td>\n",
       "    </tr>\n",
       "    <tr>\n",
       "      <th>30744</th>\n",
       "      <td>2013-01-20 00:05:37-05:00</td>\n",
       "      <td>Seeking</td>\n",
       "      <td>0 days 00:21:52</td>\n",
       "      <td>The Office (U.S.): Season 2: Halloween (Episod...</td>\n",
       "    </tr>\n",
       "    <tr>\n",
       "      <th>20452</th>\n",
       "      <td>2016-07-25 01:41:51-04:00</td>\n",
       "      <td>Seeking</td>\n",
       "      <td>0 days 00:21:29</td>\n",
       "      <td>The Office (U.S.): Season 9: Suit Warehouse (E...</td>\n",
       "    </tr>\n",
       "    <tr>\n",
       "      <th>41704</th>\n",
       "      <td>2017-01-03 14:32:45-05:00</td>\n",
       "      <td>The Girls</td>\n",
       "      <td>0 days 00:29:34</td>\n",
       "      <td>The Office (U.S.): Season 3: The Merger (Episo...</td>\n",
       "    </tr>\n",
       "    <tr>\n",
       "      <th>17450</th>\n",
       "      <td>2017-05-22 00:12:52-04:00</td>\n",
       "      <td>Seeking</td>\n",
       "      <td>0 days 00:21:30</td>\n",
       "      <td>The Office (U.S.): Season 4: The Deposition (E...</td>\n",
       "    </tr>\n",
       "    <tr>\n",
       "      <th>13943</th>\n",
       "      <td>2018-10-22 15:19:28-04:00</td>\n",
       "      <td>Seeking</td>\n",
       "      <td>0 days 00:03:13</td>\n",
       "      <td>The Office (U.S.): Season 5: Lecture Circuit: ...</td>\n",
       "    </tr>\n",
       "    <tr>\n",
       "      <th>12651</th>\n",
       "      <td>2019-12-08 19:46:48-05:00</td>\n",
       "      <td>Seeking</td>\n",
       "      <td>0 days 00:21:23</td>\n",
       "      <td>The Office (U.S.): Season 8: The List (Episode 1)</td>\n",
       "    </tr>\n",
       "    <tr>\n",
       "      <th>14032</th>\n",
       "      <td>2018-10-11 18:41:34-04:00</td>\n",
       "      <td>Seeking</td>\n",
       "      <td>0 days 00:20:47</td>\n",
       "      <td>The Office (U.S.): Season 3: Grief Counseling ...</td>\n",
       "    </tr>\n",
       "    <tr>\n",
       "      <th>40153</th>\n",
       "      <td>2018-06-28 22:55:04-04:00</td>\n",
       "      <td>The Girls</td>\n",
       "      <td>0 days 00:14:15</td>\n",
       "      <td>The Office (U.S.): Season 2: Office Olympics (...</td>\n",
       "    </tr>\n",
       "    <tr>\n",
       "      <th>12575</th>\n",
       "      <td>2019-12-25 15:25:49-05:00</td>\n",
       "      <td>Seeking</td>\n",
       "      <td>0 days 00:18:41</td>\n",
       "      <td>The Office (U.S.): Season 9: Customer Loyalty ...</td>\n",
       "    </tr>\n",
       "    <tr>\n",
       "      <th>41539</th>\n",
       "      <td>2017-02-05 05:33:41-05:00</td>\n",
       "      <td>The Girls</td>\n",
       "      <td>0 days 00:21:45</td>\n",
       "      <td>The Office (U.S.): Season 6: The Meeting (Epis...</td>\n",
       "    </tr>\n",
       "    <tr>\n",
       "      <th>40912</th>\n",
       "      <td>2017-09-21 21:10:58-04:00</td>\n",
       "      <td>The Girls</td>\n",
       "      <td>0 days 00:21:46</td>\n",
       "      <td>The Office (U.S.): Season 6: Shareholder Meeti...</td>\n",
       "    </tr>\n",
       "    <tr>\n",
       "      <th>13929</th>\n",
       "      <td>2018-10-22 20:07:45-04:00</td>\n",
       "      <td>Seeking</td>\n",
       "      <td>0 days 00:02:15</td>\n",
       "      <td>The Office (U.S.): Season 5: Heavy Competition...</td>\n",
       "    </tr>\n",
       "    <tr>\n",
       "      <th>18853</th>\n",
       "      <td>2017-01-06 03:51:26-05:00</td>\n",
       "      <td>Seeking</td>\n",
       "      <td>0 days 00:25:54</td>\n",
       "      <td>The Office (U.S.): Season 4: Launch Party (Epi...</td>\n",
       "    </tr>\n",
       "    <tr>\n",
       "      <th>40700</th>\n",
       "      <td>2017-12-05 11:13:14-05:00</td>\n",
       "      <td>The Girls</td>\n",
       "      <td>0 days 00:11:08</td>\n",
       "      <td>The Office (U.S.): Season 8: Free Family Portr...</td>\n",
       "    </tr>\n",
       "    <tr>\n",
       "      <th>20582</th>\n",
       "      <td>2016-07-18 23:52:47-04:00</td>\n",
       "      <td>Seeking</td>\n",
       "      <td>0 days 00:11:18</td>\n",
       "      <td>The Office (U.S.): Season 6: Secretary's Day (...</td>\n",
       "    </tr>\n",
       "    <tr>\n",
       "      <th>13909</th>\n",
       "      <td>2018-10-24 15:50:38-04:00</td>\n",
       "      <td>Seeking</td>\n",
       "      <td>0 days 00:21:39</td>\n",
       "      <td>The Office (U.S.): Season 6: Mafia (Episode 6)</td>\n",
       "    </tr>\n",
       "    <tr>\n",
       "      <th>30497</th>\n",
       "      <td>2013-02-27 21:12:14-05:00</td>\n",
       "      <td>Seeking</td>\n",
       "      <td>0 days 00:09:05</td>\n",
       "      <td>The Office (U.S.): Season 2: Michael's Birthda...</td>\n",
       "    </tr>\n",
       "    <tr>\n",
       "      <th>24299</th>\n",
       "      <td>2015-05-26 21:36:00-04:00</td>\n",
       "      <td>Seeking</td>\n",
       "      <td>0 days 00:21:15</td>\n",
       "      <td>The Office (U.S.): Season 4: Survivor Man (Epi...</td>\n",
       "    </tr>\n",
       "  </tbody>\n",
       "</table>\n",
       "</div>"
      ],
      "text/plain": [
       "                     Start Time Profile Name        Duration  \\\n",
       "14025 2018-10-12 20:47:00-04:00      Seeking 0 days 00:08:10   \n",
       "12740 2019-11-22 16:31:02-05:00      Seeking 0 days 00:21:28   \n",
       "30744 2013-01-20 00:05:37-05:00      Seeking 0 days 00:21:52   \n",
       "20452 2016-07-25 01:41:51-04:00      Seeking 0 days 00:21:29   \n",
       "41704 2017-01-03 14:32:45-05:00    The Girls 0 days 00:29:34   \n",
       "17450 2017-05-22 00:12:52-04:00      Seeking 0 days 00:21:30   \n",
       "13943 2018-10-22 15:19:28-04:00      Seeking 0 days 00:03:13   \n",
       "12651 2019-12-08 19:46:48-05:00      Seeking 0 days 00:21:23   \n",
       "14032 2018-10-11 18:41:34-04:00      Seeking 0 days 00:20:47   \n",
       "40153 2018-06-28 22:55:04-04:00    The Girls 0 days 00:14:15   \n",
       "12575 2019-12-25 15:25:49-05:00      Seeking 0 days 00:18:41   \n",
       "41539 2017-02-05 05:33:41-05:00    The Girls 0 days 00:21:45   \n",
       "40912 2017-09-21 21:10:58-04:00    The Girls 0 days 00:21:46   \n",
       "13929 2018-10-22 20:07:45-04:00      Seeking 0 days 00:02:15   \n",
       "18853 2017-01-06 03:51:26-05:00      Seeking 0 days 00:25:54   \n",
       "40700 2017-12-05 11:13:14-05:00    The Girls 0 days 00:11:08   \n",
       "20582 2016-07-18 23:52:47-04:00      Seeking 0 days 00:11:18   \n",
       "13909 2018-10-24 15:50:38-04:00      Seeking 0 days 00:21:39   \n",
       "30497 2013-02-27 21:12:14-05:00      Seeking 0 days 00:09:05   \n",
       "24299 2015-05-26 21:36:00-04:00      Seeking 0 days 00:21:15   \n",
       "\n",
       "                                                   Title  \n",
       "14025  The Office (U.S.): Season 3: The Merger (Episo...  \n",
       "12740  The Office (U.S.): Season 6: The Cover-Up (Epi...  \n",
       "30744  The Office (U.S.): Season 2: Halloween (Episod...  \n",
       "20452  The Office (U.S.): Season 9: Suit Warehouse (E...  \n",
       "41704  The Office (U.S.): Season 3: The Merger (Episo...  \n",
       "17450  The Office (U.S.): Season 4: The Deposition (E...  \n",
       "13943  The Office (U.S.): Season 5: Lecture Circuit: ...  \n",
       "12651  The Office (U.S.): Season 8: The List (Episode 1)  \n",
       "14032  The Office (U.S.): Season 3: Grief Counseling ...  \n",
       "40153  The Office (U.S.): Season 2: Office Olympics (...  \n",
       "12575  The Office (U.S.): Season 9: Customer Loyalty ...  \n",
       "41539  The Office (U.S.): Season 6: The Meeting (Epis...  \n",
       "40912  The Office (U.S.): Season 6: Shareholder Meeti...  \n",
       "13929  The Office (U.S.): Season 5: Heavy Competition...  \n",
       "18853  The Office (U.S.): Season 4: Launch Party (Epi...  \n",
       "40700  The Office (U.S.): Season 8: Free Family Portr...  \n",
       "20582  The Office (U.S.): Season 6: Secretary's Day (...  \n",
       "13909     The Office (U.S.): Season 6: Mafia (Episode 6)  \n",
       "30497  The Office (U.S.): Season 2: Michael's Birthda...  \n",
       "24299  The Office (U.S.): Season 4: Survivor Man (Epi...  "
      ]
     },
     "execution_count": 8,
     "metadata": {},
     "output_type": "execute_result"
    }
   ],
   "source": [
    "# Also analyzing the Office because it was my whole family's favorite show for awhile\n",
    "\n",
    "office = df[df['Title'].str.contains('The Office (U.S.)', regex=False)]\n",
    "\n",
    "office.sample(20)"
   ]
  },
  {
   "cell_type": "code",
   "execution_count": 9,
   "id": "b94c9bb8",
   "metadata": {},
   "outputs": [
    {
     "data": {
      "text/plain": [
       "(1131, 4)"
      ]
     },
     "execution_count": 9,
     "metadata": {},
     "output_type": "execute_result"
    }
   ],
   "source": [
    "office.shape"
   ]
  },
  {
   "cell_type": "code",
   "execution_count": 10,
   "id": "b1383ea5",
   "metadata": {},
   "outputs": [
    {
     "data": {
      "text/plain": [
       "(1072, 4)"
      ]
     },
     "execution_count": 10,
     "metadata": {},
     "output_type": "execute_result"
    }
   ],
   "source": [
    "office = office[(office['Duration'] > '0 days 00:01:00')]\n",
    "\n",
    "office.shape"
   ]
  },
  {
   "cell_type": "code",
   "execution_count": 11,
   "id": "31a1ce28",
   "metadata": {},
   "outputs": [
    {
     "data": {
      "text/plain": [
       "Timedelta('14 days 15:45:52')"
      ]
     },
     "execution_count": 11,
     "metadata": {},
     "output_type": "execute_result"
    }
   ],
   "source": [
    "office['Duration'].sum()"
   ]
  },
  {
   "cell_type": "code",
   "execution_count": 12,
   "id": "63b8f8ae",
   "metadata": {
    "scrolled": true
   },
   "outputs": [
    {
     "data": {
      "text/html": [
       "<div>\n",
       "<style scoped>\n",
       "    .dataframe tbody tr th:only-of-type {\n",
       "        vertical-align: middle;\n",
       "    }\n",
       "\n",
       "    .dataframe tbody tr th {\n",
       "        vertical-align: top;\n",
       "    }\n",
       "\n",
       "    .dataframe thead th {\n",
       "        text-align: right;\n",
       "    }\n",
       "</style>\n",
       "<table border=\"1\" class=\"dataframe\">\n",
       "  <thead>\n",
       "    <tr style=\"text-align: right;\">\n",
       "      <th></th>\n",
       "      <th>Start Time</th>\n",
       "      <th>Profile Name</th>\n",
       "      <th>Duration</th>\n",
       "      <th>Title</th>\n",
       "      <th>weekday</th>\n",
       "      <th>hour</th>\n",
       "    </tr>\n",
       "  </thead>\n",
       "  <tbody>\n",
       "    <tr>\n",
       "      <th>12546</th>\n",
       "      <td>2019-12-30 19:30:44-05:00</td>\n",
       "      <td>Seeking</td>\n",
       "      <td>0 days 00:50:33</td>\n",
       "      <td>The Office (U.S.): Season 9: Finale (Episode 23)</td>\n",
       "      <td>0</td>\n",
       "      <td>19</td>\n",
       "    </tr>\n",
       "  </tbody>\n",
       "</table>\n",
       "</div>"
      ],
      "text/plain": [
       "                     Start Time Profile Name        Duration  \\\n",
       "12546 2019-12-30 19:30:44-05:00      Seeking 0 days 00:50:33   \n",
       "\n",
       "                                                  Title  weekday  hour  \n",
       "12546  The Office (U.S.): Season 9: Finale (Episode 23)        0    19  "
      ]
     },
     "execution_count": 12,
     "metadata": {},
     "output_type": "execute_result"
    }
   ],
   "source": [
    "office['weekday'] = office['Start Time'].dt.weekday\n",
    "office['hour'] = office['Start Time'].dt.hour\n",
    "\n",
    "office.head(1)"
   ]
  },
  {
   "cell_type": "code",
   "execution_count": 35,
   "id": "17bb286a",
   "metadata": {},
   "outputs": [
    {
     "data": {
      "text/plain": [
       "<AxesSubplot:title={'center':'Office Episodes Watched by Day'}>"
      ]
     },
     "execution_count": 35,
     "metadata": {},
     "output_type": "execute_result"
    },
    {
     "data": {
      "image/png": "[encoded data removed]",
      "text/plain": [
       "<Figure size 1440x720 with 1 Axes>"
      ]
     },
     "metadata": {
      "needs_background": "light"
     },
     "output_type": "display_data"
    }
   ],
   "source": [
    "%matplotlib inline\n",
    "import matplotlib\n",
    "\n",
    "office['weekday'] = pd.Categorical(office['weekday'], categories=\n",
    "    [0,1,2,3,4,5,6],\n",
    "    ordered=True)\n",
    "\n",
    "office_by_day = office['weekday'].value_counts()\n",
    "\n",
    "office_by_day = office_by_day.sort_index()\n",
    "\n",
    "matplotlib.rcParams.update({'font.size': 22})\n",
    "\n",
    "office_by_day.plot(kind= 'bar', figsize=(20,10), title='Office Episodes Watched by Day')"
   ]
  },
  {
   "cell_type": "code",
   "execution_count": 14,
   "id": "9533a8f1",
   "metadata": {
    "scrolled": false
   },
   "outputs": [
    {
     "data": {
      "text/plain": [
       "<AxesSubplot:title={'center':'Office Episodes Watched by Hour'}>"
      ]
     },
     "execution_count": 14,
     "metadata": {},
     "output_type": "execute_result"
    },
    {
     "data": {
      "image/png": "[encoded data removed]",
      "text/plain": [
       "<Figure size 1440x720 with 1 Axes>"
      ]
     },
     "metadata": {
      "needs_background": "light"
     },
     "output_type": "display_data"
    }
   ],
   "source": [
    "office['hour'] = pd.Categorical(office['hour'], categories=\n",
    "    [0,1,2,3,4,5,6,7,8,9,10,11,12,13,14,15,16,17,18,19,20,21,22,23],\n",
    "    ordered=True)\n",
    "\n",
    "office_by_hour = office['hour'].value_counts()\n",
    "\n",
    "office_by_hour = office_by_hour.sort_index()\n",
    "\n",
    "office_by_hour.plot(kind='line', figsize=(20,10), title='Office Episodes Watched by Hour')"
   ]
  },
  {
   "cell_type": "code",
   "execution_count": 15,
   "id": "aa136303",
   "metadata": {},
   "outputs": [
    {
     "name": "stdout",
     "output_type": "stream",
     "text": [
      "Grandpa watched: 1376 times\n",
      "Mom and Dad watched: 27509 times\n",
      "Kids watched: 6077 times\n",
      "The Girls watched: 8172 times\n"
     ]
    }
   ],
   "source": [
    "# Counting how many times each profile watched netflix for a Pie Chart\n",
    "\n",
    "watching_list = []\n",
    "\n",
    "Grandpa = df[df['Profile Name'].str.contains('Grandpa', regex=True)]\n",
    "print('Grandpa watched:', Grandpa['Profile Name'].count(), 'times')\n",
    "watching_list.append(Grandpa['Profile Name'].count())\n",
    "\n",
    "Seeking = df[df['Profile Name'].str.contains('Seeking', regex=True)]\n",
    "print('Mom and Dad watched:', Seeking['Profile Name'].count(), 'times')\n",
    "watching_list.append(Seeking['Profile Name'].count())\n",
    "\n",
    "Kids = df[df['Profile Name'].str.contains('Kids', regex=True)]\n",
    "print('Kids watched:', Kids['Profile Name'].count(), 'times')\n",
    "watching_list.append(Kids['Profile Name'].count())\n",
    "\n",
    "Girls = df[df['Profile Name'].str.contains('The Girls', regex=True)]\n",
    "print('The Girls watched:', Girls['Profile Name'].count(), 'times')\n",
    "watching_list.append(Girls['Profile Name'].count())"
   ]
  },
  {
   "cell_type": "code",
   "execution_count": 18,
   "id": "97f806ea",
   "metadata": {},
   "outputs": [
    {
     "data": {
      "text/html": [
       "<div>\n",
       "<style scoped>\n",
       "    .dataframe tbody tr th:only-of-type {\n",
       "        vertical-align: middle;\n",
       "    }\n",
       "\n",
       "    .dataframe tbody tr th {\n",
       "        vertical-align: top;\n",
       "    }\n",
       "\n",
       "    .dataframe thead th {\n",
       "        text-align: right;\n",
       "    }\n",
       "</style>\n",
       "<table border=\"1\" class=\"dataframe\">\n",
       "  <thead>\n",
       "    <tr style=\"text-align: right;\">\n",
       "      <th></th>\n",
       "      <th>index</th>\n",
       "      <th>Start Time</th>\n",
       "      <th>Profile Name</th>\n",
       "      <th>Duration</th>\n",
       "      <th>Title</th>\n",
       "    </tr>\n",
       "  </thead>\n",
       "  <tbody>\n",
       "    <tr>\n",
       "      <th>0</th>\n",
       "      <td>1375</td>\n",
       "      <td>2018-01-07 23:15:11-05:00</td>\n",
       "      <td>Grandpa</td>\n",
       "      <td>0 days 00:25:02</td>\n",
       "      <td>Bright</td>\n",
       "    </tr>\n",
       "    <tr>\n",
       "      <th>1</th>\n",
       "      <td>1374</td>\n",
       "      <td>2018-01-09 21:48:47-05:00</td>\n",
       "      <td>Grandpa</td>\n",
       "      <td>0 days 00:27:54</td>\n",
       "      <td>Bright</td>\n",
       "    </tr>\n",
       "    <tr>\n",
       "      <th>2</th>\n",
       "      <td>1373</td>\n",
       "      <td>2018-01-10 06:50:33-05:00</td>\n",
       "      <td>Grandpa</td>\n",
       "      <td>0 days 01:11:03</td>\n",
       "      <td>Bright</td>\n",
       "    </tr>\n",
       "    <tr>\n",
       "      <th>3</th>\n",
       "      <td>1372</td>\n",
       "      <td>2018-01-10 22:19:20-05:00</td>\n",
       "      <td>Grandpa</td>\n",
       "      <td>0 days 00:52:52</td>\n",
       "      <td>Wanted</td>\n",
       "    </tr>\n",
       "    <tr>\n",
       "      <th>4</th>\n",
       "      <td>1371</td>\n",
       "      <td>2018-01-11 21:50:09-05:00</td>\n",
       "      <td>Grandpa</td>\n",
       "      <td>0 days 01:16:47</td>\n",
       "      <td>1922</td>\n",
       "    </tr>\n",
       "  </tbody>\n",
       "</table>\n",
       "</div>"
      ],
      "text/plain": [
       "   index                Start Time Profile Name        Duration   Title\n",
       "0   1375 2018-01-07 23:15:11-05:00      Grandpa 0 days 00:25:02  Bright\n",
       "1   1374 2018-01-09 21:48:47-05:00      Grandpa 0 days 00:27:54  Bright\n",
       "2   1373 2018-01-10 06:50:33-05:00      Grandpa 0 days 01:11:03  Bright\n",
       "3   1372 2018-01-10 22:19:20-05:00      Grandpa 0 days 00:52:52  Wanted\n",
       "4   1371 2018-01-11 21:50:09-05:00      Grandpa 0 days 01:16:47    1922"
      ]
     },
     "execution_count": 18,
     "metadata": {},
     "output_type": "execute_result"
    }
   ],
   "source": [
    "Grandpa = Grandpa.loc[::-1].reset_index()\n",
    "\n",
    "Seeking = Seeking.loc[::-1].reset_index()\n",
    "\n",
    "Kids = Kids.loc[::-1].reset_index()\n",
    "\n",
    "Girls = Girls.loc[::-1].reset_index()\n",
    "\n",
    "Grandpa.head()"
   ]
  },
  {
   "cell_type": "code",
   "execution_count": 19,
   "id": "48beb795",
   "metadata": {},
   "outputs": [
    {
     "name": "stdout",
     "output_type": "stream",
     "text": [
      "[1376, 27509, 6077, 8172]\n"
     ]
    }
   ],
   "source": [
    "# Checking that my list is correct\n",
    "print(watching_list)"
   ]
  },
  {
   "cell_type": "code",
   "execution_count": 20,
   "id": "641513a2",
   "metadata": {
    "scrolled": false
   },
   "outputs": [
    {
     "data": {
      "image/png": "[encoded data removed]",
      "text/plain": [
       "<Figure size 432x288 with 1 Axes>"
      ]
     },
     "metadata": {},
     "output_type": "display_data"
    }
   ],
   "source": [
    "import matplotlib.pyplot as plt\n",
    "import numpy as np\n",
    "\n",
    "y = np.array(watching_list)\n",
    "my_labels = ['Grandpa', 'Mom and Dad', 'Kids', 'The Girls']\n",
    "\n",
    "plt.pie(y, labels = my_labels)\n",
    "plt.legend(title = 'Netflix Profiles', bbox_to_anchor = (1.05, 1.0), loc = 'lower right')\n",
    "plt.show()"
   ]
  },
  {
   "cell_type": "code",
   "execution_count": 21,
   "id": "50327fe5",
   "metadata": {},
   "outputs": [
    {
     "data": {
      "text/html": [
       "<div>\n",
       "<style scoped>\n",
       "    .dataframe tbody tr th:only-of-type {\n",
       "        vertical-align: middle;\n",
       "    }\n",
       "\n",
       "    .dataframe tbody tr th {\n",
       "        vertical-align: top;\n",
       "    }\n",
       "\n",
       "    .dataframe thead th {\n",
       "        text-align: right;\n",
       "    }\n",
       "</style>\n",
       "<table border=\"1\" class=\"dataframe\">\n",
       "  <thead>\n",
       "    <tr style=\"text-align: right;\">\n",
       "      <th></th>\n",
       "      <th>index</th>\n",
       "      <th>Start Time</th>\n",
       "      <th>Profile Name</th>\n",
       "      <th>Duration</th>\n",
       "      <th>Title</th>\n",
       "      <th>Count</th>\n",
       "    </tr>\n",
       "  </thead>\n",
       "  <tbody>\n",
       "    <tr>\n",
       "      <th>0</th>\n",
       "      <td>1375</td>\n",
       "      <td>2018-01-07 23:15:11-05:00</td>\n",
       "      <td>1</td>\n",
       "      <td>0 days 00:25:02</td>\n",
       "      <td>Bright</td>\n",
       "      <td>1</td>\n",
       "    </tr>\n",
       "    <tr>\n",
       "      <th>1</th>\n",
       "      <td>1374</td>\n",
       "      <td>2018-01-09 21:48:47-05:00</td>\n",
       "      <td>1</td>\n",
       "      <td>0 days 00:27:54</td>\n",
       "      <td>Bright</td>\n",
       "      <td>2</td>\n",
       "    </tr>\n",
       "    <tr>\n",
       "      <th>2</th>\n",
       "      <td>1373</td>\n",
       "      <td>2018-01-10 06:50:33-05:00</td>\n",
       "      <td>1</td>\n",
       "      <td>0 days 01:11:03</td>\n",
       "      <td>Bright</td>\n",
       "      <td>3</td>\n",
       "    </tr>\n",
       "    <tr>\n",
       "      <th>3</th>\n",
       "      <td>1372</td>\n",
       "      <td>2018-01-10 22:19:20-05:00</td>\n",
       "      <td>1</td>\n",
       "      <td>0 days 00:52:52</td>\n",
       "      <td>Wanted</td>\n",
       "      <td>4</td>\n",
       "    </tr>\n",
       "    <tr>\n",
       "      <th>4</th>\n",
       "      <td>1371</td>\n",
       "      <td>2018-01-11 21:50:09-05:00</td>\n",
       "      <td>1</td>\n",
       "      <td>0 days 01:16:47</td>\n",
       "      <td>1922</td>\n",
       "      <td>5</td>\n",
       "    </tr>\n",
       "  </tbody>\n",
       "</table>\n",
       "</div>"
      ],
      "text/plain": [
       "   index                Start Time  Profile Name        Duration   Title  \\\n",
       "0   1375 2018-01-07 23:15:11-05:00             1 0 days 00:25:02  Bright   \n",
       "1   1374 2018-01-09 21:48:47-05:00             1 0 days 00:27:54  Bright   \n",
       "2   1373 2018-01-10 06:50:33-05:00             1 0 days 01:11:03  Bright   \n",
       "3   1372 2018-01-10 22:19:20-05:00             1 0 days 00:52:52  Wanted   \n",
       "4   1371 2018-01-11 21:50:09-05:00             1 0 days 01:16:47    1922   \n",
       "\n",
       "   Count  \n",
       "0      1  \n",
       "1      2  \n",
       "2      3  \n",
       "3      4  \n",
       "4      5  "
      ]
     },
     "execution_count": 21,
     "metadata": {},
     "output_type": "execute_result"
    }
   ],
   "source": [
    "# Beginning analysis for multiple line graphs. I am renaming each profile as 1. \n",
    "# Works because I already seperated each profile into their own dataframe\n",
    "\n",
    "Grandpa['Profile Name'] = 1\n",
    "Grandpa['Count'] = Grandpa['Profile Name'].cumsum()\n",
    "Grandpa.head()"
   ]
  },
  {
   "cell_type": "code",
   "execution_count": 22,
   "id": "6ee74f56",
   "metadata": {
    "scrolled": true
   },
   "outputs": [
    {
     "data": {
      "text/html": [
       "<div>\n",
       "<style scoped>\n",
       "    .dataframe tbody tr th:only-of-type {\n",
       "        vertical-align: middle;\n",
       "    }\n",
       "\n",
       "    .dataframe tbody tr th {\n",
       "        vertical-align: top;\n",
       "    }\n",
       "\n",
       "    .dataframe thead th {\n",
       "        text-align: right;\n",
       "    }\n",
       "</style>\n",
       "<table border=\"1\" class=\"dataframe\">\n",
       "  <thead>\n",
       "    <tr style=\"text-align: right;\">\n",
       "      <th></th>\n",
       "      <th>index</th>\n",
       "      <th>Start Time</th>\n",
       "      <th>Profile Name</th>\n",
       "      <th>Duration</th>\n",
       "      <th>Title</th>\n",
       "      <th>Count</th>\n",
       "    </tr>\n",
       "  </thead>\n",
       "  <tbody>\n",
       "    <tr>\n",
       "      <th>0</th>\n",
       "      <td>34961</td>\n",
       "      <td>2010-11-28 14:49:28-05:00</td>\n",
       "      <td>1</td>\n",
       "      <td>0 days 00:50:57</td>\n",
       "      <td>Christmas Classics: Vol. 1</td>\n",
       "      <td>1</td>\n",
       "    </tr>\n",
       "    <tr>\n",
       "      <th>1</th>\n",
       "      <td>34960</td>\n",
       "      <td>2010-11-28 14:58:58-05:00</td>\n",
       "      <td>1</td>\n",
       "      <td>0 days 00:00:41</td>\n",
       "      <td>Monsters, Inc.</td>\n",
       "      <td>2</td>\n",
       "    </tr>\n",
       "    <tr>\n",
       "      <th>2</th>\n",
       "      <td>34959</td>\n",
       "      <td>2010-11-28 16:09:03-05:00</td>\n",
       "      <td>1</td>\n",
       "      <td>0 days 01:34:01</td>\n",
       "      <td>Race to Witch Mountain</td>\n",
       "      <td>3</td>\n",
       "    </tr>\n",
       "    <tr>\n",
       "      <th>3</th>\n",
       "      <td>34958</td>\n",
       "      <td>2010-11-28 16:42:57-05:00</td>\n",
       "      <td>1</td>\n",
       "      <td>0 days 01:37:51</td>\n",
       "      <td>The Princess and the Frog</td>\n",
       "      <td>4</td>\n",
       "    </tr>\n",
       "    <tr>\n",
       "      <th>4</th>\n",
       "      <td>34957</td>\n",
       "      <td>2010-11-28 21:11:19-05:00</td>\n",
       "      <td>1</td>\n",
       "      <td>0 days 01:35:04</td>\n",
       "      <td>Legion</td>\n",
       "      <td>5</td>\n",
       "    </tr>\n",
       "  </tbody>\n",
       "</table>\n",
       "</div>"
      ],
      "text/plain": [
       "   index                Start Time  Profile Name        Duration  \\\n",
       "0  34961 2010-11-28 14:49:28-05:00             1 0 days 00:50:57   \n",
       "1  34960 2010-11-28 14:58:58-05:00             1 0 days 00:00:41   \n",
       "2  34959 2010-11-28 16:09:03-05:00             1 0 days 01:34:01   \n",
       "3  34958 2010-11-28 16:42:57-05:00             1 0 days 01:37:51   \n",
       "4  34957 2010-11-28 21:11:19-05:00             1 0 days 01:35:04   \n",
       "\n",
       "                        Title  Count  \n",
       "0  Christmas Classics: Vol. 1      1  \n",
       "1              Monsters, Inc.      2  \n",
       "2      Race to Witch Mountain      3  \n",
       "3   The Princess and the Frog      4  \n",
       "4                      Legion      5  "
      ]
     },
     "execution_count": 22,
     "metadata": {},
     "output_type": "execute_result"
    }
   ],
   "source": [
    "Seeking['Profile Name'] = 1\n",
    "Seeking['Count'] = Seeking['Profile Name'].cumsum()\n",
    "Seeking.head()"
   ]
  },
  {
   "cell_type": "code",
   "execution_count": 23,
   "id": "6cd5abe6",
   "metadata": {
    "scrolled": true
   },
   "outputs": [
    {
     "data": {
      "text/html": [
       "<div>\n",
       "<style scoped>\n",
       "    .dataframe tbody tr th:only-of-type {\n",
       "        vertical-align: middle;\n",
       "    }\n",
       "\n",
       "    .dataframe tbody tr th {\n",
       "        vertical-align: top;\n",
       "    }\n",
       "\n",
       "    .dataframe thead th {\n",
       "        text-align: right;\n",
       "    }\n",
       "</style>\n",
       "<table border=\"1\" class=\"dataframe\">\n",
       "  <thead>\n",
       "    <tr style=\"text-align: right;\">\n",
       "      <th></th>\n",
       "      <th>index</th>\n",
       "      <th>Start Time</th>\n",
       "      <th>Profile Name</th>\n",
       "      <th>Duration</th>\n",
       "      <th>Title</th>\n",
       "      <th>Count</th>\n",
       "    </tr>\n",
       "  </thead>\n",
       "  <tbody>\n",
       "    <tr>\n",
       "      <th>0</th>\n",
       "      <td>7452</td>\n",
       "      <td>2010-11-28 14:49:28-05:00</td>\n",
       "      <td>1</td>\n",
       "      <td>0 days 00:50:57</td>\n",
       "      <td>Christmas Classics: Vol. 1</td>\n",
       "      <td>1</td>\n",
       "    </tr>\n",
       "    <tr>\n",
       "      <th>1</th>\n",
       "      <td>7451</td>\n",
       "      <td>2010-11-28 14:58:58-05:00</td>\n",
       "      <td>1</td>\n",
       "      <td>0 days 00:00:41</td>\n",
       "      <td>Monsters, Inc.</td>\n",
       "      <td>2</td>\n",
       "    </tr>\n",
       "    <tr>\n",
       "      <th>2</th>\n",
       "      <td>7450</td>\n",
       "      <td>2010-11-28 16:09:03-05:00</td>\n",
       "      <td>1</td>\n",
       "      <td>0 days 01:34:01</td>\n",
       "      <td>Race to Witch Mountain</td>\n",
       "      <td>3</td>\n",
       "    </tr>\n",
       "    <tr>\n",
       "      <th>3</th>\n",
       "      <td>7449</td>\n",
       "      <td>2010-11-28 16:42:57-05:00</td>\n",
       "      <td>1</td>\n",
       "      <td>0 days 01:37:51</td>\n",
       "      <td>The Princess and the Frog</td>\n",
       "      <td>4</td>\n",
       "    </tr>\n",
       "    <tr>\n",
       "      <th>4</th>\n",
       "      <td>7448</td>\n",
       "      <td>2010-12-01 17:35:32-05:00</td>\n",
       "      <td>1</td>\n",
       "      <td>0 days 01:29:51</td>\n",
       "      <td>Anastasia</td>\n",
       "      <td>5</td>\n",
       "    </tr>\n",
       "  </tbody>\n",
       "</table>\n",
       "</div>"
      ],
      "text/plain": [
       "   index                Start Time  Profile Name        Duration  \\\n",
       "0   7452 2010-11-28 14:49:28-05:00             1 0 days 00:50:57   \n",
       "1   7451 2010-11-28 14:58:58-05:00             1 0 days 00:00:41   \n",
       "2   7450 2010-11-28 16:09:03-05:00             1 0 days 01:34:01   \n",
       "3   7449 2010-11-28 16:42:57-05:00             1 0 days 01:37:51   \n",
       "4   7448 2010-12-01 17:35:32-05:00             1 0 days 01:29:51   \n",
       "\n",
       "                        Title  Count  \n",
       "0  Christmas Classics: Vol. 1      1  \n",
       "1              Monsters, Inc.      2  \n",
       "2      Race to Witch Mountain      3  \n",
       "3   The Princess and the Frog      4  \n",
       "4                   Anastasia      5  "
      ]
     },
     "execution_count": 23,
     "metadata": {},
     "output_type": "execute_result"
    }
   ],
   "source": [
    "Kids['Profile Name'] = 1\n",
    "Kids['Count'] = Kids['Profile Name'].cumsum()\n",
    "Kids.head()"
   ]
  },
  {
   "cell_type": "code",
   "execution_count": 24,
   "id": "1fe58171",
   "metadata": {
    "scrolled": false
   },
   "outputs": [
    {
     "data": {
      "text/html": [
       "<div>\n",
       "<style scoped>\n",
       "    .dataframe tbody tr th:only-of-type {\n",
       "        vertical-align: middle;\n",
       "    }\n",
       "\n",
       "    .dataframe tbody tr th {\n",
       "        vertical-align: top;\n",
       "    }\n",
       "\n",
       "    .dataframe thead th {\n",
       "        text-align: right;\n",
       "    }\n",
       "</style>\n",
       "<table border=\"1\" class=\"dataframe\">\n",
       "  <thead>\n",
       "    <tr style=\"text-align: right;\">\n",
       "      <th></th>\n",
       "      <th>index</th>\n",
       "      <th>Start Time</th>\n",
       "      <th>Profile Name</th>\n",
       "      <th>Duration</th>\n",
       "      <th>Title</th>\n",
       "      <th>Count</th>\n",
       "    </tr>\n",
       "  </thead>\n",
       "  <tbody>\n",
       "    <tr>\n",
       "      <th>0</th>\n",
       "      <td>43133</td>\n",
       "      <td>2014-12-31 14:20:21-05:00</td>\n",
       "      <td>1</td>\n",
       "      <td>0 days 00:51:47</td>\n",
       "      <td>American Horror Story: Murder House: Pilot (Ep...</td>\n",
       "      <td>1</td>\n",
       "    </tr>\n",
       "    <tr>\n",
       "      <th>1</th>\n",
       "      <td>43132</td>\n",
       "      <td>2014-12-31 14:33:35-05:00</td>\n",
       "      <td>1</td>\n",
       "      <td>0 days 00:22:31</td>\n",
       "      <td>That '70s Show: Season 1: Eric's Burger Job (E...</td>\n",
       "      <td>2</td>\n",
       "    </tr>\n",
       "    <tr>\n",
       "      <th>2</th>\n",
       "      <td>43131</td>\n",
       "      <td>2014-12-31 14:56:49-05:00</td>\n",
       "      <td>1</td>\n",
       "      <td>0 days 00:12:30</td>\n",
       "      <td>That '70s Show: Season 1: The Keg (Episode 6)</td>\n",
       "      <td>3</td>\n",
       "    </tr>\n",
       "    <tr>\n",
       "      <th>3</th>\n",
       "      <td>43130</td>\n",
       "      <td>2015-01-03 19:58:04-05:00</td>\n",
       "      <td>1</td>\n",
       "      <td>0 days 01:30:28</td>\n",
       "      <td>White Chicks</td>\n",
       "      <td>4</td>\n",
       "    </tr>\n",
       "    <tr>\n",
       "      <th>4</th>\n",
       "      <td>43129</td>\n",
       "      <td>2015-01-15 13:22:19-05:00</td>\n",
       "      <td>1</td>\n",
       "      <td>0 days 00:22:23</td>\n",
       "      <td>That '70s Show: Season 1: Drive-In (Episode 8)</td>\n",
       "      <td>5</td>\n",
       "    </tr>\n",
       "  </tbody>\n",
       "</table>\n",
       "</div>"
      ],
      "text/plain": [
       "   index                Start Time  Profile Name        Duration  \\\n",
       "0  43133 2014-12-31 14:20:21-05:00             1 0 days 00:51:47   \n",
       "1  43132 2014-12-31 14:33:35-05:00             1 0 days 00:22:31   \n",
       "2  43131 2014-12-31 14:56:49-05:00             1 0 days 00:12:30   \n",
       "3  43130 2015-01-03 19:58:04-05:00             1 0 days 01:30:28   \n",
       "4  43129 2015-01-15 13:22:19-05:00             1 0 days 00:22:23   \n",
       "\n",
       "                                               Title  Count  \n",
       "0  American Horror Story: Murder House: Pilot (Ep...      1  \n",
       "1  That '70s Show: Season 1: Eric's Burger Job (E...      2  \n",
       "2      That '70s Show: Season 1: The Keg (Episode 6)      3  \n",
       "3                                       White Chicks      4  \n",
       "4     That '70s Show: Season 1: Drive-In (Episode 8)      5  "
      ]
     },
     "execution_count": 24,
     "metadata": {},
     "output_type": "execute_result"
    }
   ],
   "source": [
    "Girls['Profile Name'] = 1\n",
    "Girls['Count'] = Girls['Profile Name'].cumsum()\n",
    "Girls.head()"
   ]
  },
  {
   "cell_type": "code",
   "execution_count": 38,
   "id": "fa7f4751",
   "metadata": {},
   "outputs": [
    {
     "data": {
      "image/png": "[encoded data removed]",
      "text/plain": [
       "<Figure size 432x288 with 1 Axes>"
      ]
     },
     "metadata": {
      "needs_background": "light"
     },
     "output_type": "display_data"
    }
   ],
   "source": [
    "# Displaying the amount of times watched across time\n",
    "\n",
    "import matplotlib.pyplot as plt\n",
    "import pandas as pd\n",
    "\n",
    "ax = Grandpa.plot(x='Count', y='Start Time', label = 'Grandpa')\n",
    "Seeking.plot(ax=ax, x='Count', y='Start Time', label = 'Mom and Dad')\n",
    "Kids.plot(ax=ax, x='Count', y='Start Time', label = 'Kids')\n",
    "Girls.plot(ax=ax, x='Count', y='Start Time', label = 'The Girls', title='Watch Counts Over Time')\n",
    "\n",
    "plt.legend(title = 'Netflix Profiles', bbox_to_anchor = (1.05, 1.0), loc = 'upper left')\n",
    "\n",
    "plt.show()"
   ]
  },
  {
   "cell_type": "code",
   "execution_count": 27,
   "id": "d0e11181",
   "metadata": {},
   "outputs": [],
   "source": [
    "# Converting duration to seconds then minutes\n",
    "import datetime\n",
    "\n",
    "df['DurationInMin'] = df[\"Duration\"].dt.total_seconds()/60"
   ]
  },
  {
   "cell_type": "code",
   "execution_count": 28,
   "id": "9a9d3254",
   "metadata": {},
   "outputs": [
    {
     "name": "stdout",
     "output_type": "stream",
     "text": [
      "0        23.366667\n",
      "1        12.500000\n",
      "2        40.850000\n",
      "3        33.733333\n",
      "4         5.116667\n",
      "           ...    \n",
      "43129    22.383333\n",
      "43130    90.466667\n",
      "43131    12.500000\n",
      "43132    22.516667\n",
      "43133    51.783333\n",
      "Name: DurationInMin, Length: 43134, dtype: float64\n"
     ]
    }
   ],
   "source": [
    "# Checking that Duration was converted to minutes\n",
    "print(df[\"DurationInMin\"])"
   ]
  },
  {
   "cell_type": "code",
   "execution_count": 45,
   "id": "1552a44f",
   "metadata": {},
   "outputs": [
    {
     "name": "stdout",
     "output_type": "stream",
     "text": [
      "All values are in minutes.\n",
      "\n",
      "Average Duration: 25.31676596961426\n",
      "Median Duration: 21.566666666666666\n",
      "Max Duration: 1007.1500000000001 \n",
      "    ^We must have left the TV on, oops\n",
      "Min Duration: 0.016666666666666666\n",
      "Standard Deviation of Duration: 26.128126535718348\n"
     ]
    }
   ],
   "source": [
    "# Statistical Data Analysis\n",
    "\n",
    "print('All values are in minutes.\\n')\n",
    "\n",
    "print('Average Duration:', df[\"DurationInMin\"].mean())\n",
    "\n",
    "print('Median Duration:', df[\"DurationInMin\"].median())\n",
    "\n",
    "print('Max Duration:', df[\"DurationInMin\"].max(), '\\n    ^We must have left the TV on, oops')\n",
    "\n",
    "print('Min Duration:', df[\"DurationInMin\"].min())\n",
    "\n",
    "print('Standard Deviation of Duration:', df[\"DurationInMin\"].std())"
   ]
  },
  {
   "cell_type": "code",
   "execution_count": 30,
   "id": "ceeb9475",
   "metadata": {
    "scrolled": true
   },
   "outputs": [],
   "source": [
    "# Adding month column\n",
    "\n",
    "Grandpa['month'] = Grandpa['Start Time'].dt.month\n",
    "\n",
    "Seeking['month'] = Seeking['Start Time'].dt.month\n",
    "\n",
    "Kids['month'] = Kids['Start Time'].dt.month\n",
    "\n",
    "Girls['month'] = Girls['Start Time'].dt.month"
   ]
  },
  {
   "cell_type": "code",
   "execution_count": 37,
   "id": "e0e78de6",
   "metadata": {
    "scrolled": false
   },
   "outputs": [
    {
     "data": {
      "image/png": "[encoded data removed]",
      "text/plain": [
       "<Figure size 1440x720 with 1 Axes>"
      ]
     },
     "metadata": {
      "needs_background": "light"
     },
     "output_type": "display_data"
    }
   ],
   "source": [
    "# Monthly summary of when each profile watches netflix the most\n",
    "\n",
    "Grandpa['month'] = pd.Categorical(Grandpa['month'], categories=\n",
    "    [1,2,3,4,5,6,7,8,9,10,11,12],\n",
    "    ordered=True)\n",
    "Grandpa_month = Grandpa['month'].value_counts()\n",
    "Grandpa_month = Grandpa_month.sort_index()\n",
    "\n",
    "Seeking['month'] = pd.Categorical(Seeking['month'], categories=\n",
    "    [1,2,3,4,5,6,7,8,9,10,11,12],\n",
    "    ordered=True)\n",
    "Seeking_month = Seeking['month'].value_counts()\n",
    "Seeking_month = Seeking_month.sort_index()\n",
    "\n",
    "Kids['month'] = pd.Categorical(Kids['month'], categories=\n",
    "    [1,2,3,4,5,6,7,8,9,10,11,12],\n",
    "    ordered=True)\n",
    "Kids_month = Kids['month'].value_counts()\n",
    "Kids_month = Kids_month.sort_index()\n",
    "\n",
    "Girls['month'] = pd.Categorical(Girls['month'], categories=\n",
    "    [1,2,3,4,5,6,7,8,9,10,11,12],\n",
    "    ordered=True)\n",
    "Girls_month = Girls['month'].value_counts()\n",
    "Girls_month = Girls_month.sort_index()\n",
    "\n",
    "ax = Grandpa_month.plot(kind='line', figsize=(20,10), label = 'Grandpa')\n",
    "Seeking_month.plot(ax=ax, label = 'Mom and Dad')\n",
    "Kids_month.plot(ax=ax, label = 'Kids')\n",
    "Girls_month.plot(ax=ax, label = 'The Girls', title='Watching Habits by Month')\n",
    "\n",
    "plt.legend(title = 'Netflix Profiles', bbox_to_anchor = (1.05, 1.0), loc = 'upper left')\n",
    "\n",
    "plt.show()"
   ]
  }
 ],
 "metadata": {
  "kernelspec": {
   "display_name": "Python 3 (ipykernel)",
   "language": "python",
   "name": "python3"
  },
  "language_info": {
   "codemirror_mode": {
    "name": "ipython",
    "version": 3
   },
   "file_extension": ".py",
   "mimetype": "text/x-python",
   "name": "python",
   "nbconvert_exporter": "python",
   "pygments_lexer": "ipython3",
   "version": "3.9.7"
  }
 },
 "nbformat": 4,
 "nbformat_minor": 5
}
