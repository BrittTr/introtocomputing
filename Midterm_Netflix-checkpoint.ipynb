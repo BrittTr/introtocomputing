{
 "cells": [
  {
   "cell_type": "code",
   "execution_count": 60,
   "id": "8ada1fb3",
   "metadata": {
    "scrolled": false
   },
   "outputs": [],
   "source": [
    "import pandas as pd\n",
    "\n",
    "df = pd.read_csv('ViewingActivity.csv')"
   ]
  },
  {
   "cell_type": "code",
   "execution_count": 61,
   "id": "b1e38f6c",
   "metadata": {},
   "outputs": [
    {
     "data": {
      "text/plain": [
       "(43134, 10)"
      ]
     },
     "execution_count": 61,
     "metadata": {},
     "output_type": "execute_result"
    }
   ],
   "source": [
    "df.shape"
   ]
  },
  {
   "cell_type": "code",
   "execution_count": 62,
   "id": "203d03aa",
   "metadata": {
    "scrolled": false
   },
   "outputs": [
    {
     "data": {
      "text/html": [
       "<div>\n",
       "<style scoped>\n",
       "    .dataframe tbody tr th:only-of-type {\n",
       "        vertical-align: middle;\n",
       "    }\n",
       "\n",
       "    .dataframe tbody tr th {\n",
       "        vertical-align: top;\n",
       "    }\n",
       "\n",
       "    .dataframe thead th {\n",
       "        text-align: right;\n",
       "    }\n",
       "</style>\n",
       "<table border=\"1\" class=\"dataframe\">\n",
       "  <thead>\n",
       "    <tr style=\"text-align: right;\">\n",
       "      <th></th>\n",
       "      <th>Profile Name</th>\n",
       "      <th>Start Time</th>\n",
       "      <th>Duration</th>\n",
       "      <th>Attributes</th>\n",
       "      <th>Title</th>\n",
       "      <th>Supplemental Video Type</th>\n",
       "      <th>Device Type</th>\n",
       "      <th>Bookmark</th>\n",
       "      <th>Latest Bookmark</th>\n",
       "      <th>Country</th>\n",
       "    </tr>\n",
       "  </thead>\n",
       "  <tbody>\n",
       "    <tr>\n",
       "      <th>0</th>\n",
       "      <td>Grandpa</td>\n",
       "      <td>2021-09-12 14:41:50</td>\n",
       "      <td>00:23:22</td>\n",
       "      <td>NaN</td>\n",
       "      <td>The 100: Season 1: The Calm (Episode 11)</td>\n",
       "      <td>NaN</td>\n",
       "      <td>Chrome PC (Cadmium)</td>\n",
       "      <td>00:36:36</td>\n",
       "      <td>00:36:36</td>\n",
       "      <td>CO (Colombia)</td>\n",
       "    </tr>\n",
       "    <tr>\n",
       "      <th>1</th>\n",
       "      <td>Grandpa</td>\n",
       "      <td>2021-09-12 00:14:47</td>\n",
       "      <td>00:12:30</td>\n",
       "      <td>NaN</td>\n",
       "      <td>The 100: Season 1: The Calm (Episode 11)</td>\n",
       "      <td>NaN</td>\n",
       "      <td>Chrome PC (Cadmium)</td>\n",
       "      <td>00:13:14</td>\n",
       "      <td>Not latest view</td>\n",
       "      <td>CO (Colombia)</td>\n",
       "    </tr>\n",
       "    <tr>\n",
       "      <th>2</th>\n",
       "      <td>Grandpa</td>\n",
       "      <td>2021-09-11 23:33:55</td>\n",
       "      <td>00:40:51</td>\n",
       "      <td>NaN</td>\n",
       "      <td>The 100: Season 1: I Am Become Death (Episode 10)</td>\n",
       "      <td>NaN</td>\n",
       "      <td>Chrome PC (Cadmium)</td>\n",
       "      <td>00:41:12</td>\n",
       "      <td>00:41:12</td>\n",
       "      <td>CO (Colombia)</td>\n",
       "    </tr>\n",
       "    <tr>\n",
       "      <th>3</th>\n",
       "      <td>Grandpa</td>\n",
       "      <td>2021-09-11 23:00:09</td>\n",
       "      <td>00:33:44</td>\n",
       "      <td>NaN</td>\n",
       "      <td>The 100: Season 1: Unity Day (Episode 9)</td>\n",
       "      <td>NaN</td>\n",
       "      <td>Chrome PC (Cadmium)</td>\n",
       "      <td>00:39:41</td>\n",
       "      <td>00:39:41</td>\n",
       "      <td>CO (Colombia)</td>\n",
       "    </tr>\n",
       "    <tr>\n",
       "      <th>4</th>\n",
       "      <td>Grandpa</td>\n",
       "      <td>2021-09-11 20:33:52</td>\n",
       "      <td>00:05:07</td>\n",
       "      <td>NaN</td>\n",
       "      <td>The 100: Season 1: Unity Day (Episode 9)</td>\n",
       "      <td>NaN</td>\n",
       "      <td>Chrome PC (Cadmium)</td>\n",
       "      <td>00:05:56</td>\n",
       "      <td>Not latest view</td>\n",
       "      <td>CO (Colombia)</td>\n",
       "    </tr>\n",
       "  </tbody>\n",
       "</table>\n",
       "</div>"
      ],
      "text/plain": [
       "  Profile Name           Start Time  Duration Attributes  \\\n",
       "0      Grandpa  2021-09-12 14:41:50  00:23:22        NaN   \n",
       "1      Grandpa  2021-09-12 00:14:47  00:12:30        NaN   \n",
       "2      Grandpa  2021-09-11 23:33:55  00:40:51        NaN   \n",
       "3      Grandpa  2021-09-11 23:00:09  00:33:44        NaN   \n",
       "4      Grandpa  2021-09-11 20:33:52  00:05:07        NaN   \n",
       "\n",
       "                                               Title Supplemental Video Type  \\\n",
       "0           The 100: Season 1: The Calm (Episode 11)                     NaN   \n",
       "1           The 100: Season 1: The Calm (Episode 11)                     NaN   \n",
       "2  The 100: Season 1: I Am Become Death (Episode 10)                     NaN   \n",
       "3           The 100: Season 1: Unity Day (Episode 9)                     NaN   \n",
       "4           The 100: Season 1: Unity Day (Episode 9)                     NaN   \n",
       "\n",
       "           Device Type  Bookmark  Latest Bookmark        Country  \n",
       "0  Chrome PC (Cadmium)  00:36:36         00:36:36  CO (Colombia)  \n",
       "1  Chrome PC (Cadmium)  00:13:14  Not latest view  CO (Colombia)  \n",
       "2  Chrome PC (Cadmium)  00:41:12         00:41:12  CO (Colombia)  \n",
       "3  Chrome PC (Cadmium)  00:39:41         00:39:41  CO (Colombia)  \n",
       "4  Chrome PC (Cadmium)  00:05:56  Not latest view  CO (Colombia)  "
      ]
     },
     "execution_count": 62,
     "metadata": {},
     "output_type": "execute_result"
    }
   ],
   "source": [
    "df.head()"
   ]
  },
  {
   "cell_type": "code",
   "execution_count": 63,
   "id": "8a02dde1",
   "metadata": {},
   "outputs": [
    {
     "data": {
      "text/html": [
       "<div>\n",
       "<style scoped>\n",
       "    .dataframe tbody tr th:only-of-type {\n",
       "        vertical-align: middle;\n",
       "    }\n",
       "\n",
       "    .dataframe tbody tr th {\n",
       "        vertical-align: top;\n",
       "    }\n",
       "\n",
       "    .dataframe thead th {\n",
       "        text-align: right;\n",
       "    }\n",
       "</style>\n",
       "<table border=\"1\" class=\"dataframe\">\n",
       "  <thead>\n",
       "    <tr style=\"text-align: right;\">\n",
       "      <th></th>\n",
       "      <th>Profile Name</th>\n",
       "      <th>Start Time</th>\n",
       "      <th>Duration</th>\n",
       "      <th>Title</th>\n",
       "    </tr>\n",
       "  </thead>\n",
       "  <tbody>\n",
       "    <tr>\n",
       "      <th>0</th>\n",
       "      <td>Grandpa</td>\n",
       "      <td>2021-09-12 14:41:50</td>\n",
       "      <td>00:23:22</td>\n",
       "      <td>The 100: Season 1: The Calm (Episode 11)</td>\n",
       "    </tr>\n",
       "  </tbody>\n",
       "</table>\n",
       "</div>"
      ],
      "text/plain": [
       "  Profile Name           Start Time  Duration  \\\n",
       "0      Grandpa  2021-09-12 14:41:50  00:23:22   \n",
       "\n",
       "                                      Title  \n",
       "0  The 100: Season 1: The Calm (Episode 11)  "
      ]
     },
     "execution_count": 63,
     "metadata": {},
     "output_type": "execute_result"
    }
   ],
   "source": [
    "# Dropping everything as the Netflix example except 'Profile Names' for later analysis\n",
    "df = df.drop(['Attributes', 'Supplemental Video Type', 'Device Type', 'Bookmark', 'Latest Bookmark', 'Country'], axis=1)\n",
    "\n",
    "df.head(1)"
   ]
  },
  {
   "cell_type": "code",
   "execution_count": 64,
   "id": "dde5ee0e",
   "metadata": {},
   "outputs": [
    {
     "data": {
      "text/plain": [
       "Profile Name                 object\n",
       "Start Time      datetime64[ns, UTC]\n",
       "Duration                     object\n",
       "Title                        object\n",
       "dtype: object"
      ]
     },
     "execution_count": 64,
     "metadata": {},
     "output_type": "execute_result"
    }
   ],
   "source": [
    "df['Start Time'] = pd.to_datetime(df['Start Time'], utc=True)\n",
    "\n",
    "df.dtypes"
   ]
  },
  {
   "cell_type": "code",
   "execution_count": 65,
   "id": "30d94754",
   "metadata": {
    "scrolled": true
   },
   "outputs": [
    {
     "data": {
      "text/html": [
       "<div>\n",
       "<style scoped>\n",
       "    .dataframe tbody tr th:only-of-type {\n",
       "        vertical-align: middle;\n",
       "    }\n",
       "\n",
       "    .dataframe tbody tr th {\n",
       "        vertical-align: top;\n",
       "    }\n",
       "\n",
       "    .dataframe thead th {\n",
       "        text-align: right;\n",
       "    }\n",
       "</style>\n",
       "<table border=\"1\" class=\"dataframe\">\n",
       "  <thead>\n",
       "    <tr style=\"text-align: right;\">\n",
       "      <th></th>\n",
       "      <th>Start Time</th>\n",
       "      <th>Profile Name</th>\n",
       "      <th>Duration</th>\n",
       "      <th>Title</th>\n",
       "    </tr>\n",
       "  </thead>\n",
       "  <tbody>\n",
       "    <tr>\n",
       "      <th>0</th>\n",
       "      <td>2021-09-12 10:41:50-04:00</td>\n",
       "      <td>Grandpa</td>\n",
       "      <td>00:23:22</td>\n",
       "      <td>The 100: Season 1: The Calm (Episode 11)</td>\n",
       "    </tr>\n",
       "  </tbody>\n",
       "</table>\n",
       "</div>"
      ],
      "text/plain": [
       "                 Start Time Profile Name  Duration  \\\n",
       "0 2021-09-12 10:41:50-04:00      Grandpa  00:23:22   \n",
       "\n",
       "                                      Title  \n",
       "0  The 100: Season 1: The Calm (Episode 11)  "
      ]
     },
     "execution_count": 65,
     "metadata": {},
     "output_type": "execute_result"
    }
   ],
   "source": [
    "df = df.set_index('Start Time')\n",
    "\n",
    "df.index = df.index.tz_convert('US/Eastern')\n",
    "\n",
    "df = df.reset_index()\n",
    "\n",
    "df.head(1)"
   ]
  },
  {
   "cell_type": "code",
   "execution_count": 66,
   "id": "cf591a1e",
   "metadata": {
    "scrolled": true
   },
   "outputs": [
    {
     "data": {
      "text/plain": [
       "Start Time      datetime64[ns, US/Eastern]\n",
       "Profile Name                        object\n",
       "Duration                   timedelta64[ns]\n",
       "Title                               object\n",
       "dtype: object"
      ]
     },
     "execution_count": 66,
     "metadata": {},
     "output_type": "execute_result"
    }
   ],
   "source": [
    "df['Duration'] = pd.to_timedelta(df['Duration'])\n",
    "\n",
    "df.dtypes"
   ]
  },
  {
   "cell_type": "code",
   "execution_count": 67,
   "id": "b145eaa6",
   "metadata": {},
   "outputs": [
    {
     "data": {
      "text/plain": [
       "'September'"
      ]
     },
     "execution_count": 67,
     "metadata": {},
     "output_type": "execute_result"
    }
   ],
   "source": [
    "# Identifying the months in my Data\n",
    "\n",
    "df.loc[0, 'Start Time'].month_name()"
   ]
  },
  {
   "cell_type": "code",
   "execution_count": 68,
   "id": "2b4283a6",
   "metadata": {
    "scrolled": true
   },
   "outputs": [
    {
     "data": {
      "text/html": [
       "<div>\n",
       "<style scoped>\n",
       "    .dataframe tbody tr th:only-of-type {\n",
       "        vertical-align: middle;\n",
       "    }\n",
       "\n",
       "    .dataframe tbody tr th {\n",
       "        vertical-align: top;\n",
       "    }\n",
       "\n",
       "    .dataframe thead th {\n",
       "        text-align: right;\n",
       "    }\n",
       "</style>\n",
       "<table border=\"1\" class=\"dataframe\">\n",
       "  <thead>\n",
       "    <tr style=\"text-align: right;\">\n",
       "      <th></th>\n",
       "      <th>Start Time</th>\n",
       "      <th>Profile Name</th>\n",
       "      <th>Duration</th>\n",
       "      <th>Title</th>\n",
       "      <th>Month</th>\n",
       "    </tr>\n",
       "  </thead>\n",
       "  <tbody>\n",
       "    <tr>\n",
       "      <th>0</th>\n",
       "      <td>2021-09-12 10:41:50-04:00</td>\n",
       "      <td>Grandpa</td>\n",
       "      <td>0 days 00:23:22</td>\n",
       "      <td>The 100: Season 1: The Calm (Episode 11)</td>\n",
       "      <td>September</td>\n",
       "    </tr>\n",
       "    <tr>\n",
       "      <th>1</th>\n",
       "      <td>2021-09-11 20:14:47-04:00</td>\n",
       "      <td>Grandpa</td>\n",
       "      <td>0 days 00:12:30</td>\n",
       "      <td>The 100: Season 1: The Calm (Episode 11)</td>\n",
       "      <td>September</td>\n",
       "    </tr>\n",
       "    <tr>\n",
       "      <th>2</th>\n",
       "      <td>2021-09-11 19:33:55-04:00</td>\n",
       "      <td>Grandpa</td>\n",
       "      <td>0 days 00:40:51</td>\n",
       "      <td>The 100: Season 1: I Am Become Death (Episode 10)</td>\n",
       "      <td>September</td>\n",
       "    </tr>\n",
       "    <tr>\n",
       "      <th>3</th>\n",
       "      <td>2021-09-11 19:00:09-04:00</td>\n",
       "      <td>Grandpa</td>\n",
       "      <td>0 days 00:33:44</td>\n",
       "      <td>The 100: Season 1: Unity Day (Episode 9)</td>\n",
       "      <td>September</td>\n",
       "    </tr>\n",
       "    <tr>\n",
       "      <th>4</th>\n",
       "      <td>2021-09-11 16:33:52-04:00</td>\n",
       "      <td>Grandpa</td>\n",
       "      <td>0 days 00:05:07</td>\n",
       "      <td>The 100: Season 1: Unity Day (Episode 9)</td>\n",
       "      <td>September</td>\n",
       "    </tr>\n",
       "    <tr>\n",
       "      <th>...</th>\n",
       "      <td>...</td>\n",
       "      <td>...</td>\n",
       "      <td>...</td>\n",
       "      <td>...</td>\n",
       "      <td>...</td>\n",
       "    </tr>\n",
       "    <tr>\n",
       "      <th>395</th>\n",
       "      <td>2018-12-29 08:05:39-05:00</td>\n",
       "      <td>Grandpa</td>\n",
       "      <td>0 days 00:02:52</td>\n",
       "      <td>Seven in Heaven</td>\n",
       "      <td>December</td>\n",
       "    </tr>\n",
       "    <tr>\n",
       "      <th>396</th>\n",
       "      <td>2018-12-29 08:04:03-05:00</td>\n",
       "      <td>Grandpa</td>\n",
       "      <td>0 days 00:00:07</td>\n",
       "      <td>Nothing to Hide</td>\n",
       "      <td>December</td>\n",
       "    </tr>\n",
       "    <tr>\n",
       "      <th>397</th>\n",
       "      <td>2018-12-29 07:14:24-05:00</td>\n",
       "      <td>Grandpa</td>\n",
       "      <td>0 days 00:41:38</td>\n",
       "      <td>Standoff</td>\n",
       "      <td>December</td>\n",
       "    </tr>\n",
       "    <tr>\n",
       "      <th>398</th>\n",
       "      <td>2018-12-28 22:29:47-05:00</td>\n",
       "      <td>Grandpa</td>\n",
       "      <td>0 days 00:38:50</td>\n",
       "      <td>Standoff</td>\n",
       "      <td>December</td>\n",
       "    </tr>\n",
       "    <tr>\n",
       "      <th>399</th>\n",
       "      <td>2018-12-28 22:02:57-05:00</td>\n",
       "      <td>Grandpa</td>\n",
       "      <td>0 days 00:22:36</td>\n",
       "      <td>What Still Remains</td>\n",
       "      <td>December</td>\n",
       "    </tr>\n",
       "  </tbody>\n",
       "</table>\n",
       "<p>400 rows × 5 columns</p>\n",
       "</div>"
      ],
      "text/plain": [
       "                   Start Time Profile Name        Duration  \\\n",
       "0   2021-09-12 10:41:50-04:00      Grandpa 0 days 00:23:22   \n",
       "1   2021-09-11 20:14:47-04:00      Grandpa 0 days 00:12:30   \n",
       "2   2021-09-11 19:33:55-04:00      Grandpa 0 days 00:40:51   \n",
       "3   2021-09-11 19:00:09-04:00      Grandpa 0 days 00:33:44   \n",
       "4   2021-09-11 16:33:52-04:00      Grandpa 0 days 00:05:07   \n",
       "..                        ...          ...             ...   \n",
       "395 2018-12-29 08:05:39-05:00      Grandpa 0 days 00:02:52   \n",
       "396 2018-12-29 08:04:03-05:00      Grandpa 0 days 00:00:07   \n",
       "397 2018-12-29 07:14:24-05:00      Grandpa 0 days 00:41:38   \n",
       "398 2018-12-28 22:29:47-05:00      Grandpa 0 days 00:38:50   \n",
       "399 2018-12-28 22:02:57-05:00      Grandpa 0 days 00:22:36   \n",
       "\n",
       "                                                 Title      Month  \n",
       "0             The 100: Season 1: The Calm (Episode 11)  September  \n",
       "1             The 100: Season 1: The Calm (Episode 11)  September  \n",
       "2    The 100: Season 1: I Am Become Death (Episode 10)  September  \n",
       "3             The 100: Season 1: Unity Day (Episode 9)  September  \n",
       "4             The 100: Season 1: Unity Day (Episode 9)  September  \n",
       "..                                                 ...        ...  \n",
       "395                                    Seven in Heaven   December  \n",
       "396                                    Nothing to Hide   December  \n",
       "397                                           Standoff   December  \n",
       "398                                           Standoff   December  \n",
       "399                                 What Still Remains   December  \n",
       "\n",
       "[400 rows x 5 columns]"
      ]
     },
     "execution_count": 68,
     "metadata": {},
     "output_type": "execute_result"
    }
   ],
   "source": [
    "# Making a column of months and checking\n",
    "\n",
    "df['Month'] = df['Start Time'].dt.month_name()\n",
    "\n",
    "df.head(400)"
   ]
  },
  {
   "cell_type": "code",
   "execution_count": 127,
   "id": "51170321",
   "metadata": {
    "scrolled": true
   },
   "outputs": [
    {
     "name": "stdout",
     "output_type": "stream",
     "text": [
      "Account Start Date: 2010-11-28 14:49:28-05:00\n",
      "Most Recent Watch Date: 2022-03-15 21:16:00-04:00\n",
      "Age of our account: 4125 days 05:26:32\n",
      "Average Date: 2017-03-27 18:02:03.290165504-04:00\n",
      "Median Date: 2017-04-17 13:25:02-04:00\n",
      "Standard Deviation of Dates: 1088 days 05:34:54.724453040\n"
     ]
    }
   ],
   "source": [
    "# Statistical Analysis with Dates\n",
    "\n",
    "print('Account Start Date:', df['Start Time'].min())\n",
    "print('Most Recent Watch Date:', df['Start Time'].max())\n",
    "\n",
    "print('Age of our account:', df['Start Time'].max() - df['Start Time'].min())\n",
    "\n",
    "print('Average Date:', df['Start Time'].mean())\n",
    "\n",
    "print('Median Date:', df['Start Time'].median())\n",
    "\n",
    "print('Standard Deviation of Dates:', df['Start Time'].std())"
   ]
  },
  {
   "cell_type": "code",
   "execution_count": 70,
   "id": "f5c16167",
   "metadata": {},
   "outputs": [
    {
     "name": "stdout",
     "output_type": "stream",
     "text": [
      "Watched 3737 times in January\n",
      "Watched 3378 times in February\n",
      "Watched 3387 times in March\n",
      "Watched 3187 times in April\n",
      "Watched 2637 times in May\n",
      "Watched 4261 times in June\n",
      "Watched 4225 times in July\n",
      "Watched 4434 times in August\n",
      "Watched 3650 times in September\n",
      "Watched 3036 times in October\n",
      "Watched 3440 times in November\n",
      "Watched 3762 times in December\n"
     ]
    }
   ],
   "source": [
    "# Monthly Summary\n",
    "\n",
    "month_list = []\n",
    "\n",
    "January = df[df['Month'].str.contains('January', regex=True)]\n",
    "print('Watched', January['Month'].count(), 'times in January')\n",
    "month_list.append(January['Month'].count())\n",
    "\n",
    "February = df[df['Month'].str.contains('February', regex=True)]\n",
    "print('Watched', February['Month'].count(), 'times in February')\n",
    "month_list.append(February['Month'].count())\n",
    "\n",
    "March = df[df['Month'].str.contains('March', regex=True)]\n",
    "print('Watched', March['Month'].count(), 'times in March')\n",
    "month_list.append(March['Month'].count())\n",
    "\n",
    "April = df[df['Month'].str.contains('April', regex=True)]\n",
    "print('Watched', April['Month'].count(), 'times in April')\n",
    "month_list.append(April['Month'].count())\n",
    "\n",
    "May = df[df['Month'].str.contains('May', regex=True)]\n",
    "print('Watched', May['Month'].count(), 'times in May')\n",
    "month_list.append(May['Month'].count())\n",
    "\n",
    "June = df[df['Month'].str.contains('June', regex=True)]\n",
    "print('Watched', June['Month'].count(), 'times in June')\n",
    "month_list.append(June['Month'].count())\n",
    "\n",
    "July = df[df['Month'].str.contains('July', regex=True)]\n",
    "print('Watched', July['Month'].count(), 'times in July')\n",
    "month_list.append(July['Month'].count())\n",
    "\n",
    "August = df[df['Month'].str.contains('August', regex=True)]\n",
    "print('Watched', August['Month'].count(), 'times in August')\n",
    "month_list.append(August['Month'].count())\n",
    "\n",
    "September = df[df['Month'].str.contains('September', regex=True)]\n",
    "print('Watched', September['Month'].count(), 'times in September')\n",
    "month_list.append(September['Month'].count())\n",
    "\n",
    "October = df[df['Month'].str.contains('October', regex=True)]\n",
    "print('Watched', October['Month'].count(), 'times in October')\n",
    "month_list.append(October['Month'].count())\n",
    "\n",
    "November = df[df['Month'].str.contains('November', regex=True)]\n",
    "print('Watched', November['Month'].count(), 'times in November')\n",
    "month_list.append(November['Month'].count())\n",
    "\n",
    "December = df[df['Month'].str.contains('December', regex=True)]\n",
    "print('Watched', December['Month'].count(), 'times in December')\n",
    "month_list.append(December['Month'].count())"
   ]
  },
  {
   "cell_type": "code",
   "execution_count": 71,
   "id": "6960240f",
   "metadata": {},
   "outputs": [
    {
     "data": {
      "image/png": "[encoded data removed]",
      "text/plain": [
       "<Figure size 432x288 with 1 Axes>"
      ]
     },
     "metadata": {},
     "output_type": "display_data"
    }
   ],
   "source": [
    "import matplotlib.pyplot as plt\n",
    "import numpy as np\n",
    "\n",
    "y = np.array(month_list)\n",
    "my_labels = ['January', 'February', 'March', 'April', 'May', 'June', 'July', 'August', 'September', 'October', 'November', 'December']\n",
    "\n",
    "plt.pie(y, labels = my_labels)\n",
    "plt.legend(title = 'Monthly Viewing Habits', bbox_to_anchor = (2, 1.0), loc = 'upper right')\n",
    "plt.title('Viewing Habits by Month')\n",
    "plt.show()"
   ]
  },
  {
   "cell_type": "code",
   "execution_count": 125,
   "id": "a0b39e02",
   "metadata": {
    "scrolled": false
   },
   "outputs": [
    {
     "data": {
      "text/plain": [
       "<AxesSubplot:title={'center':'Watch Counts by Month'}>"
      ]
     },
     "execution_count": 125,
     "metadata": {},
     "output_type": "execute_result"
    },
    {
     "data": {
      "image/png": "[encoded data removed]",
      "text/plain": [
       "<Figure size 1440x720 with 1 Axes>"
      ]
     },
     "metadata": {
      "needs_background": "light"
     },
     "output_type": "display_data"
    }
   ],
   "source": [
    "month_order = ['January', 'February', 'March', 'April', 'May', 'June', \n",
    "               'July', 'August', 'September', 'October', 'November', 'December']\n",
    "\n",
    "#Reset index such that Jan is 0, Dec is 11\n",
    "\n",
    "df['Month'] = pd.Categorical(df['Month'], categories = month_order, ordered = True)\n",
    "\n",
    "df.sort_values(by = 'Month', inplace = True)\n",
    "\n",
    "views_month = df['Month'].value_counts()\n",
    "\n",
    "views_month = views_month.sort_index()\n",
    "\n",
    "views_month.plot(kind='line', figsize=(20,10), title='Watch Counts by Month')"
   ]
  },
  {
   "cell_type": "code",
   "execution_count": 124,
   "id": "0242021d",
   "metadata": {},
   "outputs": [
    {
     "data": {
      "text/html": [
       "<div>\n",
       "<style scoped>\n",
       "    .dataframe tbody tr th:only-of-type {\n",
       "        vertical-align: middle;\n",
       "    }\n",
       "\n",
       "    .dataframe tbody tr th {\n",
       "        vertical-align: top;\n",
       "    }\n",
       "\n",
       "    .dataframe thead th {\n",
       "        text-align: right;\n",
       "    }\n",
       "</style>\n",
       "<table border=\"1\" class=\"dataframe\">\n",
       "  <thead>\n",
       "    <tr style=\"text-align: right;\">\n",
       "      <th></th>\n",
       "      <th>Start Time</th>\n",
       "      <th>Profile Name</th>\n",
       "      <th>Duration</th>\n",
       "      <th>Title</th>\n",
       "      <th>Month</th>\n",
       "      <th>DurationInMin</th>\n",
       "    </tr>\n",
       "  </thead>\n",
       "  <tbody>\n",
       "    <tr>\n",
       "      <th>41717</th>\n",
       "      <td>2017-01-02 23:26:29-05:00</td>\n",
       "      <td>The Girls</td>\n",
       "      <td>0 days 00:20:47</td>\n",
       "      <td>The Office (U.S.): Season 2: Take Your Daughte...</td>\n",
       "      <td>January</td>\n",
       "      <td>20.783333</td>\n",
       "    </tr>\n",
       "    <tr>\n",
       "      <th>15551</th>\n",
       "      <td>2018-01-20 17:49:22-05:00</td>\n",
       "      <td>Seeking</td>\n",
       "      <td>0 days 00:06:59</td>\n",
       "      <td>The Flash: Season 3: Attack on Central City (E...</td>\n",
       "      <td>January</td>\n",
       "      <td>6.983333</td>\n",
       "    </tr>\n",
       "    <tr>\n",
       "      <th>15550</th>\n",
       "      <td>2018-01-20 17:57:22-05:00</td>\n",
       "      <td>Seeking</td>\n",
       "      <td>0 days 00:08:04</td>\n",
       "      <td>The Flash: Season 3: The Present (Episode 9)</td>\n",
       "      <td>January</td>\n",
       "      <td>8.066667</td>\n",
       "    </tr>\n",
       "    <tr>\n",
       "      <th>15549</th>\n",
       "      <td>2018-01-20 18:21:04-05:00</td>\n",
       "      <td>Seeking</td>\n",
       "      <td>0 days 00:01:26</td>\n",
       "      <td>The Flash: Season 3: The Present (Episode 9)</td>\n",
       "      <td>January</td>\n",
       "      <td>1.433333</td>\n",
       "    </tr>\n",
       "    <tr>\n",
       "      <th>15548</th>\n",
       "      <td>2018-01-20 18:25:29-05:00</td>\n",
       "      <td>Seeking</td>\n",
       "      <td>0 days 00:03:12</td>\n",
       "      <td>The Flash: Season 3: Finish Line (Episode 23)</td>\n",
       "      <td>January</td>\n",
       "      <td>3.200000</td>\n",
       "    </tr>\n",
       "    <tr>\n",
       "      <th>...</th>\n",
       "      <td>...</td>\n",
       "      <td>...</td>\n",
       "      <td>...</td>\n",
       "      <td>...</td>\n",
       "      <td>...</td>\n",
       "      <td>...</td>\n",
       "    </tr>\n",
       "    <tr>\n",
       "      <th>8460</th>\n",
       "      <td>2021-12-13 20:18:48-05:00</td>\n",
       "      <td>Seeking</td>\n",
       "      <td>0 days 00:00:59</td>\n",
       "      <td>Father of the Year (Trailer)</td>\n",
       "      <td>December</td>\n",
       "      <td>0.983333</td>\n",
       "    </tr>\n",
       "    <tr>\n",
       "      <th>8461</th>\n",
       "      <td>2021-12-13 20:17:27-05:00</td>\n",
       "      <td>Seeking</td>\n",
       "      <td>0 days 00:00:57</td>\n",
       "      <td>Sebastian Maniscalco: Stay Hungry (Trailer)</td>\n",
       "      <td>December</td>\n",
       "      <td>0.950000</td>\n",
       "    </tr>\n",
       "    <tr>\n",
       "      <th>8462</th>\n",
       "      <td>2021-12-13 20:16:55-05:00</td>\n",
       "      <td>Seeking</td>\n",
       "      <td>0 days 00:00:04</td>\n",
       "      <td>Trailer: Extraction</td>\n",
       "      <td>December</td>\n",
       "      <td>0.066667</td>\n",
       "    </tr>\n",
       "    <tr>\n",
       "      <th>8446</th>\n",
       "      <td>2021-12-13 20:26:56-05:00</td>\n",
       "      <td>Seeking</td>\n",
       "      <td>0 days 00:00:07</td>\n",
       "      <td>Trailer: The Misadventures of Hedi and Cokeman</td>\n",
       "      <td>December</td>\n",
       "      <td>0.116667</td>\n",
       "    </tr>\n",
       "    <tr>\n",
       "      <th>43133</th>\n",
       "      <td>2014-12-31 14:20:21-05:00</td>\n",
       "      <td>The Girls</td>\n",
       "      <td>0 days 00:51:47</td>\n",
       "      <td>American Horror Story: Murder House: Pilot (Ep...</td>\n",
       "      <td>December</td>\n",
       "      <td>51.783333</td>\n",
       "    </tr>\n",
       "  </tbody>\n",
       "</table>\n",
       "<p>43134 rows × 6 columns</p>\n",
       "</div>"
      ],
      "text/plain": [
       "                     Start Time Profile Name        Duration  \\\n",
       "41717 2017-01-02 23:26:29-05:00    The Girls 0 days 00:20:47   \n",
       "15551 2018-01-20 17:49:22-05:00      Seeking 0 days 00:06:59   \n",
       "15550 2018-01-20 17:57:22-05:00      Seeking 0 days 00:08:04   \n",
       "15549 2018-01-20 18:21:04-05:00      Seeking 0 days 00:01:26   \n",
       "15548 2018-01-20 18:25:29-05:00      Seeking 0 days 00:03:12   \n",
       "...                         ...          ...             ...   \n",
       "8460  2021-12-13 20:18:48-05:00      Seeking 0 days 00:00:59   \n",
       "8461  2021-12-13 20:17:27-05:00      Seeking 0 days 00:00:57   \n",
       "8462  2021-12-13 20:16:55-05:00      Seeking 0 days 00:00:04   \n",
       "8446  2021-12-13 20:26:56-05:00      Seeking 0 days 00:00:07   \n",
       "43133 2014-12-31 14:20:21-05:00    The Girls 0 days 00:51:47   \n",
       "\n",
       "                                                   Title     Month  \\\n",
       "41717  The Office (U.S.): Season 2: Take Your Daughte...   January   \n",
       "15551  The Flash: Season 3: Attack on Central City (E...   January   \n",
       "15550       The Flash: Season 3: The Present (Episode 9)   January   \n",
       "15549       The Flash: Season 3: The Present (Episode 9)   January   \n",
       "15548      The Flash: Season 3: Finish Line (Episode 23)   January   \n",
       "...                                                  ...       ...   \n",
       "8460                        Father of the Year (Trailer)  December   \n",
       "8461         Sebastian Maniscalco: Stay Hungry (Trailer)  December   \n",
       "8462                                 Trailer: Extraction  December   \n",
       "8446      Trailer: The Misadventures of Hedi and Cokeman  December   \n",
       "43133  American Horror Story: Murder House: Pilot (Ep...  December   \n",
       "\n",
       "       DurationInMin  \n",
       "41717      20.783333  \n",
       "15551       6.983333  \n",
       "15550       8.066667  \n",
       "15549       1.433333  \n",
       "15548       3.200000  \n",
       "...              ...  \n",
       "8460        0.983333  \n",
       "8461        0.950000  \n",
       "8462        0.066667  \n",
       "8446        0.116667  \n",
       "43133      51.783333  \n",
       "\n",
       "[43134 rows x 6 columns]"
      ]
     },
     "execution_count": 124,
     "metadata": {},
     "output_type": "execute_result"
    }
   ],
   "source": [
    "# Just checking what my df looks like again\n",
    "df"
   ]
  },
  {
   "cell_type": "code",
   "execution_count": 141,
   "id": "d0776922",
   "metadata": {},
   "outputs": [
    {
     "name": "stdout",
     "output_type": "stream",
     "text": [
      "May average duration: 0 days 00:25:57.611300720\n",
      "August average duration: 0 days 00:27:27.579386558\n",
      "\n",
      "Despite watching Netflix less often in May, my family still watched Netflix for about the same amount of time as in August.\n"
     ]
    }
   ],
   "source": [
    "# Average duration in min month (May) and max month (August)\n",
    "\n",
    "print('May average duration:', May['Duration'].mean())\n",
    "\n",
    "print('August average duration:', August['Duration'].mean())\n",
    "\n",
    "print('\\nDespite watching Netflix less often in May, my family still watched Netflix for about the same amount of time as in August.')"
   ]
  },
  {
   "cell_type": "code",
   "execution_count": 144,
   "id": "126f1b1b",
   "metadata": {},
   "outputs": [
    {
     "name": "stdout",
     "output_type": "stream",
     "text": [
      "May median duration: 0 days 00:21:18\n",
      "August median duration: 0 days 00:22:01\n",
      "\n",
      "May standard deviation of duration: 0 days 00:27:13.785660263\n",
      "August standard duration: 0 days 00:27:25.927012455\n",
      "\n",
      "May min duration: 0 days 00:00:01\n",
      "August min duration: 0 days 00:00:01\n",
      "\n",
      "May max duration: 0 days 05:19:18\n",
      "August max duration: 0 days 06:37:40\n"
     ]
    }
   ],
   "source": [
    "# Other Monthly statistical analysis of min (May) and max (Aug)\n",
    "\n",
    "print('May median duration:', May['Duration'].median())\n",
    "\n",
    "print('August median duration:', August['Duration'].median())\n",
    "\n",
    "print('\\nMay standard deviation of duration:', May['Duration'].std())\n",
    "\n",
    "print('August standard duration:', August['Duration'].std())\n",
    "\n",
    "print('\\nMay min duration:', May['Duration'].min())\n",
    "\n",
    "print('August min duration:', August['Duration'].min())\n",
    "\n",
    "print('\\nMay max duration:', May['Duration'].max())\n",
    "\n",
    "print('August max duration:', August['Duration'].max())"
   ]
  },
  {
   "cell_type": "code",
   "execution_count": 73,
   "id": "d690fe48",
   "metadata": {},
   "outputs": [
    {
     "data": {
      "text/html": [
       "<div>\n",
       "<style scoped>\n",
       "    .dataframe tbody tr th:only-of-type {\n",
       "        vertical-align: middle;\n",
       "    }\n",
       "\n",
       "    .dataframe tbody tr th {\n",
       "        vertical-align: top;\n",
       "    }\n",
       "\n",
       "    .dataframe thead th {\n",
       "        text-align: right;\n",
       "    }\n",
       "</style>\n",
       "<table border=\"1\" class=\"dataframe\">\n",
       "  <thead>\n",
       "    <tr style=\"text-align: right;\">\n",
       "      <th></th>\n",
       "      <th>Start Time</th>\n",
       "      <th>Profile Name</th>\n",
       "      <th>Duration</th>\n",
       "      <th>Title</th>\n",
       "      <th>Month</th>\n",
       "    </tr>\n",
       "  </thead>\n",
       "  <tbody>\n",
       "    <tr>\n",
       "      <th>24329</th>\n",
       "      <td>2015-05-22 14:43:06-04:00</td>\n",
       "      <td>Seeking</td>\n",
       "      <td>0 days 00:20:59</td>\n",
       "      <td>The Office (U.S.): Season 3: The Convention (E...</td>\n",
       "      <td>May</td>\n",
       "    </tr>\n",
       "    <tr>\n",
       "      <th>20565</th>\n",
       "      <td>2016-07-19 18:05:10-04:00</td>\n",
       "      <td>Seeking</td>\n",
       "      <td>0 days 00:21:50</td>\n",
       "      <td>The Office (U.S.): Season 7: Costume Contest (...</td>\n",
       "      <td>July</td>\n",
       "    </tr>\n",
       "    <tr>\n",
       "      <th>13875</th>\n",
       "      <td>2018-10-26 18:14:32-04:00</td>\n",
       "      <td>Seeking</td>\n",
       "      <td>0 days 00:19:30</td>\n",
       "      <td>The Office (U.S.): Season 7: WUPHF.com (Episod...</td>\n",
       "      <td>October</td>\n",
       "    </tr>\n",
       "    <tr>\n",
       "      <th>24278</th>\n",
       "      <td>2015-05-30 12:11:45-04:00</td>\n",
       "      <td>Seeking</td>\n",
       "      <td>0 days 00:00:25</td>\n",
       "      <td>The Office (U.S.): Season 4: Goodbye, Toby (Ep...</td>\n",
       "      <td>May</td>\n",
       "    </tr>\n",
       "    <tr>\n",
       "      <th>13992</th>\n",
       "      <td>2018-10-15 16:02:10-04:00</td>\n",
       "      <td>Seeking</td>\n",
       "      <td>0 days 00:41:29</td>\n",
       "      <td>The Office (U.S.): Season 4: Launch Party (Epi...</td>\n",
       "      <td>October</td>\n",
       "    </tr>\n",
       "    <tr>\n",
       "      <th>24270</th>\n",
       "      <td>2015-05-30 20:04:16-04:00</td>\n",
       "      <td>Seeking</td>\n",
       "      <td>0 days 00:21:48</td>\n",
       "      <td>The Office (U.S.): Season 5: Customer Survey (...</td>\n",
       "      <td>May</td>\n",
       "    </tr>\n",
       "    <tr>\n",
       "      <th>12867</th>\n",
       "      <td>2019-10-16 19:23:09-04:00</td>\n",
       "      <td>Seeking</td>\n",
       "      <td>0 days 00:21:49</td>\n",
       "      <td>The Office (U.S.): Season 6: The Promotion (Ep...</td>\n",
       "      <td>October</td>\n",
       "    </tr>\n",
       "    <tr>\n",
       "      <th>39114</th>\n",
       "      <td>2019-07-13 10:50:53-04:00</td>\n",
       "      <td>The Girls</td>\n",
       "      <td>0 days 00:21:19</td>\n",
       "      <td>The Office (U.S.): Season 1: The Alliance (Epi...</td>\n",
       "      <td>July</td>\n",
       "    </tr>\n",
       "    <tr>\n",
       "      <th>27967</th>\n",
       "      <td>2014-03-17 10:25:31-04:00</td>\n",
       "      <td>Seeking</td>\n",
       "      <td>0 days 00:21:12</td>\n",
       "      <td>The Office (U.S.): Season 5: Prince Family Pap...</td>\n",
       "      <td>March</td>\n",
       "    </tr>\n",
       "    <tr>\n",
       "      <th>12854</th>\n",
       "      <td>2019-10-19 20:29:47-04:00</td>\n",
       "      <td>Seeking</td>\n",
       "      <td>0 days 00:11:36</td>\n",
       "      <td>The Office (U.S.): Season 6: The Lover (Episod...</td>\n",
       "      <td>October</td>\n",
       "    </tr>\n",
       "    <tr>\n",
       "      <th>30085</th>\n",
       "      <td>2013-05-27 20:41:57-04:00</td>\n",
       "      <td>Seeking</td>\n",
       "      <td>0 days 00:32:06</td>\n",
       "      <td>The Office (U.S.): Season 3: The Return (Episo...</td>\n",
       "      <td>May</td>\n",
       "    </tr>\n",
       "    <tr>\n",
       "      <th>40722</th>\n",
       "      <td>2017-11-30 20:43:31-05:00</td>\n",
       "      <td>The Girls</td>\n",
       "      <td>0 days 00:00:02</td>\n",
       "      <td>The Office (U.S.): Season 7: Andy's Play (Epis...</td>\n",
       "      <td>November</td>\n",
       "    </tr>\n",
       "    <tr>\n",
       "      <th>24095</th>\n",
       "      <td>2015-06-21 11:09:20-04:00</td>\n",
       "      <td>Seeking</td>\n",
       "      <td>0 days 00:24:44</td>\n",
       "      <td>The Office (U.S.): Season 7: Classy Christmas:...</td>\n",
       "      <td>June</td>\n",
       "    </tr>\n",
       "    <tr>\n",
       "      <th>28071</th>\n",
       "      <td>2014-03-03 09:34:38-05:00</td>\n",
       "      <td>Seeking</td>\n",
       "      <td>0 days 00:20:51</td>\n",
       "      <td>The Office (U.S.): Season 5: Frame Toby (Episo...</td>\n",
       "      <td>March</td>\n",
       "    </tr>\n",
       "    <tr>\n",
       "      <th>14058</th>\n",
       "      <td>2018-10-08 17:01:03-04:00</td>\n",
       "      <td>Seeking</td>\n",
       "      <td>0 days 00:20:56</td>\n",
       "      <td>The Office (U.S.): Season 2: Performance Revie...</td>\n",
       "      <td>October</td>\n",
       "    </tr>\n",
       "    <tr>\n",
       "      <th>25828</th>\n",
       "      <td>2014-11-09 21:48:51-05:00</td>\n",
       "      <td>Seeking</td>\n",
       "      <td>0 days 00:21:38</td>\n",
       "      <td>The Office (U.S.): Season 5: Golden Ticket (Ep...</td>\n",
       "      <td>November</td>\n",
       "    </tr>\n",
       "    <tr>\n",
       "      <th>13813</th>\n",
       "      <td>2018-11-03 14:18:30-04:00</td>\n",
       "      <td>Seeking</td>\n",
       "      <td>0 days 00:07:56</td>\n",
       "      <td>The Office (U.S.): Season 8: Tallahassee (Epis...</td>\n",
       "      <td>November</td>\n",
       "    </tr>\n",
       "    <tr>\n",
       "      <th>30091</th>\n",
       "      <td>2013-05-27 14:35:56-04:00</td>\n",
       "      <td>Seeking</td>\n",
       "      <td>0 days 00:41:59</td>\n",
       "      <td>The Office (U.S.): Season 3: A Benihana Christ...</td>\n",
       "      <td>May</td>\n",
       "    </tr>\n",
       "    <tr>\n",
       "      <th>24248</th>\n",
       "      <td>2015-06-03 12:37:54-04:00</td>\n",
       "      <td>Seeking</td>\n",
       "      <td>0 days 00:10:34</td>\n",
       "      <td>The Office (U.S.): Season 5: Stress Relief: Pa...</td>\n",
       "      <td>June</td>\n",
       "    </tr>\n",
       "    <tr>\n",
       "      <th>18884</th>\n",
       "      <td>2017-01-03 23:10:08-05:00</td>\n",
       "      <td>Seeking</td>\n",
       "      <td>0 days 00:28:58</td>\n",
       "      <td>The Office (U.S.): Season 3: Women's Appreciat...</td>\n",
       "      <td>January</td>\n",
       "    </tr>\n",
       "  </tbody>\n",
       "</table>\n",
       "</div>"
      ],
      "text/plain": [
       "                     Start Time Profile Name        Duration  \\\n",
       "24329 2015-05-22 14:43:06-04:00      Seeking 0 days 00:20:59   \n",
       "20565 2016-07-19 18:05:10-04:00      Seeking 0 days 00:21:50   \n",
       "13875 2018-10-26 18:14:32-04:00      Seeking 0 days 00:19:30   \n",
       "24278 2015-05-30 12:11:45-04:00      Seeking 0 days 00:00:25   \n",
       "13992 2018-10-15 16:02:10-04:00      Seeking 0 days 00:41:29   \n",
       "24270 2015-05-30 20:04:16-04:00      Seeking 0 days 00:21:48   \n",
       "12867 2019-10-16 19:23:09-04:00      Seeking 0 days 00:21:49   \n",
       "39114 2019-07-13 10:50:53-04:00    The Girls 0 days 00:21:19   \n",
       "27967 2014-03-17 10:25:31-04:00      Seeking 0 days 00:21:12   \n",
       "12854 2019-10-19 20:29:47-04:00      Seeking 0 days 00:11:36   \n",
       "30085 2013-05-27 20:41:57-04:00      Seeking 0 days 00:32:06   \n",
       "40722 2017-11-30 20:43:31-05:00    The Girls 0 days 00:00:02   \n",
       "24095 2015-06-21 11:09:20-04:00      Seeking 0 days 00:24:44   \n",
       "28071 2014-03-03 09:34:38-05:00      Seeking 0 days 00:20:51   \n",
       "14058 2018-10-08 17:01:03-04:00      Seeking 0 days 00:20:56   \n",
       "25828 2014-11-09 21:48:51-05:00      Seeking 0 days 00:21:38   \n",
       "13813 2018-11-03 14:18:30-04:00      Seeking 0 days 00:07:56   \n",
       "30091 2013-05-27 14:35:56-04:00      Seeking 0 days 00:41:59   \n",
       "24248 2015-06-03 12:37:54-04:00      Seeking 0 days 00:10:34   \n",
       "18884 2017-01-03 23:10:08-05:00      Seeking 0 days 00:28:58   \n",
       "\n",
       "                                                   Title     Month  \n",
       "24329  The Office (U.S.): Season 3: The Convention (E...       May  \n",
       "20565  The Office (U.S.): Season 7: Costume Contest (...      July  \n",
       "13875  The Office (U.S.): Season 7: WUPHF.com (Episod...   October  \n",
       "24278  The Office (U.S.): Season 4: Goodbye, Toby (Ep...       May  \n",
       "13992  The Office (U.S.): Season 4: Launch Party (Epi...   October  \n",
       "24270  The Office (U.S.): Season 5: Customer Survey (...       May  \n",
       "12867  The Office (U.S.): Season 6: The Promotion (Ep...   October  \n",
       "39114  The Office (U.S.): Season 1: The Alliance (Epi...      July  \n",
       "27967  The Office (U.S.): Season 5: Prince Family Pap...     March  \n",
       "12854  The Office (U.S.): Season 6: The Lover (Episod...   October  \n",
       "30085  The Office (U.S.): Season 3: The Return (Episo...       May  \n",
       "40722  The Office (U.S.): Season 7: Andy's Play (Epis...  November  \n",
       "24095  The Office (U.S.): Season 7: Classy Christmas:...      June  \n",
       "28071  The Office (U.S.): Season 5: Frame Toby (Episo...     March  \n",
       "14058  The Office (U.S.): Season 2: Performance Revie...   October  \n",
       "25828  The Office (U.S.): Season 5: Golden Ticket (Ep...  November  \n",
       "13813  The Office (U.S.): Season 8: Tallahassee (Epis...  November  \n",
       "30091  The Office (U.S.): Season 3: A Benihana Christ...       May  \n",
       "24248  The Office (U.S.): Season 5: Stress Relief: Pa...      June  \n",
       "18884  The Office (U.S.): Season 3: Women's Appreciat...   January  "
      ]
     },
     "execution_count": 73,
     "metadata": {},
     "output_type": "execute_result"
    }
   ],
   "source": [
    "# Also analyzing the Office because it was my whole family's favorite show for awhile\n",
    "\n",
    "office = df[df['Title'].str.contains('The Office (U.S.)', regex=False)]\n",
    "\n",
    "office.sample(20)"
   ]
  },
  {
   "cell_type": "code",
   "execution_count": 74,
   "id": "b94c9bb8",
   "metadata": {},
   "outputs": [
    {
     "data": {
      "text/plain": [
       "(1131, 5)"
      ]
     },
     "execution_count": 74,
     "metadata": {},
     "output_type": "execute_result"
    }
   ],
   "source": [
    "office.shape"
   ]
  },
  {
   "cell_type": "code",
   "execution_count": 75,
   "id": "b1383ea5",
   "metadata": {},
   "outputs": [
    {
     "data": {
      "text/plain": [
       "(1072, 5)"
      ]
     },
     "execution_count": 75,
     "metadata": {},
     "output_type": "execute_result"
    }
   ],
   "source": [
    "office = office[(office['Duration'] > '0 days 00:01:00')]\n",
    "\n",
    "office.shape"
   ]
  },
  {
   "cell_type": "code",
   "execution_count": 76,
   "id": "31a1ce28",
   "metadata": {},
   "outputs": [
    {
     "data": {
      "text/plain": [
       "Timedelta('14 days 15:45:52')"
      ]
     },
     "execution_count": 76,
     "metadata": {},
     "output_type": "execute_result"
    }
   ],
   "source": [
    "office['Duration'].sum()"
   ]
  },
  {
   "cell_type": "code",
   "execution_count": 77,
   "id": "63b8f8ae",
   "metadata": {
    "scrolled": true
   },
   "outputs": [
    {
     "data": {
      "text/html": [
       "<div>\n",
       "<style scoped>\n",
       "    .dataframe tbody tr th:only-of-type {\n",
       "        vertical-align: middle;\n",
       "    }\n",
       "\n",
       "    .dataframe tbody tr th {\n",
       "        vertical-align: top;\n",
       "    }\n",
       "\n",
       "    .dataframe thead th {\n",
       "        text-align: right;\n",
       "    }\n",
       "</style>\n",
       "<table border=\"1\" class=\"dataframe\">\n",
       "  <thead>\n",
       "    <tr style=\"text-align: right;\">\n",
       "      <th></th>\n",
       "      <th>Start Time</th>\n",
       "      <th>Profile Name</th>\n",
       "      <th>Duration</th>\n",
       "      <th>Title</th>\n",
       "      <th>Month</th>\n",
       "      <th>weekday</th>\n",
       "      <th>hour</th>\n",
       "    </tr>\n",
       "  </thead>\n",
       "  <tbody>\n",
       "    <tr>\n",
       "      <th>12546</th>\n",
       "      <td>2019-12-30 19:30:44-05:00</td>\n",
       "      <td>Seeking</td>\n",
       "      <td>0 days 00:50:33</td>\n",
       "      <td>The Office (U.S.): Season 9: Finale (Episode 23)</td>\n",
       "      <td>December</td>\n",
       "      <td>0</td>\n",
       "      <td>19</td>\n",
       "    </tr>\n",
       "  </tbody>\n",
       "</table>\n",
       "</div>"
      ],
      "text/plain": [
       "                     Start Time Profile Name        Duration  \\\n",
       "12546 2019-12-30 19:30:44-05:00      Seeking 0 days 00:50:33   \n",
       "\n",
       "                                                  Title     Month  weekday  \\\n",
       "12546  The Office (U.S.): Season 9: Finale (Episode 23)  December        0   \n",
       "\n",
       "       hour  \n",
       "12546    19  "
      ]
     },
     "execution_count": 77,
     "metadata": {},
     "output_type": "execute_result"
    }
   ],
   "source": [
    "office['weekday'] = office['Start Time'].dt.weekday\n",
    "office['hour'] = office['Start Time'].dt.hour\n",
    "\n",
    "office.head(1)"
   ]
  },
  {
   "cell_type": "code",
   "execution_count": 78,
   "id": "44608287",
   "metadata": {},
   "outputs": [
    {
     "data": {
      "text/plain": [
       "<AxesSubplot:title={'center':'Office Episodes Watched by Day'}>"
      ]
     },
     "execution_count": 78,
     "metadata": {},
     "output_type": "execute_result"
    },
    {
     "data": {
      "image/png": "[encoded data removed]",
      "text/plain": [
       "<Figure size 1440x720 with 1 Axes>"
      ]
     },
     "metadata": {
      "needs_background": "light"
     },
     "output_type": "display_data"
    }
   ],
   "source": [
    "%matplotlib inline\n",
    "import matplotlib\n",
    "\n",
    "office['weekday'] = pd.Categorical(office['weekday'], categories=\n",
    "    [0,1,2,3,4,5,6],\n",
    "    ordered=True)\n",
    "\n",
    "office_by_day = office['weekday'].value_counts()\n",
    "\n",
    "office_by_day = office_by_day.sort_index()\n",
    "\n",
    "matplotlib.rcParams.update({'font.size': 22})\n",
    "\n",
    "office_by_day.plot(kind= 'bar', figsize=(20,10), title='Office Episodes Watched by Day')"
   ]
  },
  {
   "cell_type": "code",
   "execution_count": 79,
   "id": "9533a8f1",
   "metadata": {
    "scrolled": false
   },
   "outputs": [
    {
     "data": {
      "text/plain": [
       "<AxesSubplot:title={'center':'Office Episodes Watched by Hour'}>"
      ]
     },
     "execution_count": 79,
     "metadata": {},
     "output_type": "execute_result"
    },
    {
     "data": {
      "image/png": "[encoded data removed]",
      "text/plain": [
       "<Figure size 1440x720 with 1 Axes>"
      ]
     },
     "metadata": {
      "needs_background": "light"
     },
     "output_type": "display_data"
    }
   ],
   "source": [
    "office['hour'] = pd.Categorical(office['hour'], categories=\n",
    "    [0,1,2,3,4,5,6,7,8,9,10,11,12,13,14,15,16,17,18,19,20,21,22,23],\n",
    "    ordered=True)\n",
    "\n",
    "office_by_hour = office['hour'].value_counts()\n",
    "\n",
    "office_by_hour = office_by_hour.sort_index()\n",
    "\n",
    "office_by_hour.plot(kind='line', figsize=(20,10), title='Office Episodes Watched by Hour')"
   ]
  },
  {
   "cell_type": "code",
   "execution_count": 80,
   "id": "aa136303",
   "metadata": {},
   "outputs": [
    {
     "name": "stdout",
     "output_type": "stream",
     "text": [
      "Grandpa watched: 1376 times\n",
      "Mom and Dad watched: 27509 times\n",
      "Kids watched: 6077 times\n",
      "The Girls watched: 8172 times\n"
     ]
    }
   ],
   "source": [
    "# Counting how many times each profile watched netflix for a Pie Chart\n",
    "\n",
    "watching_list = []\n",
    "\n",
    "Grandpa = df[df['Profile Name'].str.contains('Grandpa', regex=True)]\n",
    "print('Grandpa watched:', Grandpa['Profile Name'].count(), 'times')\n",
    "watching_list.append(Grandpa['Profile Name'].count())\n",
    "\n",
    "Seeking = df[df['Profile Name'].str.contains('Seeking', regex=True)]\n",
    "print('Mom and Dad watched:', Seeking['Profile Name'].count(), 'times')\n",
    "watching_list.append(Seeking['Profile Name'].count())\n",
    "\n",
    "Kids = df[df['Profile Name'].str.contains('Kids', regex=True)]\n",
    "print('Kids watched:', Kids['Profile Name'].count(), 'times')\n",
    "watching_list.append(Kids['Profile Name'].count())\n",
    "\n",
    "Girls = df[df['Profile Name'].str.contains('The Girls', regex=True)]\n",
    "print('The Girls watched:', Girls['Profile Name'].count(), 'times')\n",
    "watching_list.append(Girls['Profile Name'].count())"
   ]
  },
  {
   "cell_type": "code",
   "execution_count": 81,
   "id": "454ff68d",
   "metadata": {},
   "outputs": [
    {
     "data": {
      "text/html": [
       "<div>\n",
       "<style scoped>\n",
       "    .dataframe tbody tr th:only-of-type {\n",
       "        vertical-align: middle;\n",
       "    }\n",
       "\n",
       "    .dataframe tbody tr th {\n",
       "        vertical-align: top;\n",
       "    }\n",
       "\n",
       "    .dataframe thead th {\n",
       "        text-align: right;\n",
       "    }\n",
       "</style>\n",
       "<table border=\"1\" class=\"dataframe\">\n",
       "  <thead>\n",
       "    <tr style=\"text-align: right;\">\n",
       "      <th></th>\n",
       "      <th>index</th>\n",
       "      <th>Start Time</th>\n",
       "      <th>Profile Name</th>\n",
       "      <th>Duration</th>\n",
       "      <th>Title</th>\n",
       "      <th>Month</th>\n",
       "    </tr>\n",
       "  </thead>\n",
       "  <tbody>\n",
       "    <tr>\n",
       "      <th>0</th>\n",
       "      <td>1375</td>\n",
       "      <td>2018-01-07 23:15:11-05:00</td>\n",
       "      <td>Grandpa</td>\n",
       "      <td>0 days 00:25:02</td>\n",
       "      <td>Bright</td>\n",
       "      <td>January</td>\n",
       "    </tr>\n",
       "    <tr>\n",
       "      <th>1</th>\n",
       "      <td>1374</td>\n",
       "      <td>2018-01-09 21:48:47-05:00</td>\n",
       "      <td>Grandpa</td>\n",
       "      <td>0 days 00:27:54</td>\n",
       "      <td>Bright</td>\n",
       "      <td>January</td>\n",
       "    </tr>\n",
       "    <tr>\n",
       "      <th>2</th>\n",
       "      <td>1373</td>\n",
       "      <td>2018-01-10 06:50:33-05:00</td>\n",
       "      <td>Grandpa</td>\n",
       "      <td>0 days 01:11:03</td>\n",
       "      <td>Bright</td>\n",
       "      <td>January</td>\n",
       "    </tr>\n",
       "    <tr>\n",
       "      <th>3</th>\n",
       "      <td>1372</td>\n",
       "      <td>2018-01-10 22:19:20-05:00</td>\n",
       "      <td>Grandpa</td>\n",
       "      <td>0 days 00:52:52</td>\n",
       "      <td>Wanted</td>\n",
       "      <td>January</td>\n",
       "    </tr>\n",
       "    <tr>\n",
       "      <th>4</th>\n",
       "      <td>1371</td>\n",
       "      <td>2018-01-11 21:50:09-05:00</td>\n",
       "      <td>Grandpa</td>\n",
       "      <td>0 days 01:16:47</td>\n",
       "      <td>1922</td>\n",
       "      <td>January</td>\n",
       "    </tr>\n",
       "  </tbody>\n",
       "</table>\n",
       "</div>"
      ],
      "text/plain": [
       "   index                Start Time Profile Name        Duration   Title  \\\n",
       "0   1375 2018-01-07 23:15:11-05:00      Grandpa 0 days 00:25:02  Bright   \n",
       "1   1374 2018-01-09 21:48:47-05:00      Grandpa 0 days 00:27:54  Bright   \n",
       "2   1373 2018-01-10 06:50:33-05:00      Grandpa 0 days 01:11:03  Bright   \n",
       "3   1372 2018-01-10 22:19:20-05:00      Grandpa 0 days 00:52:52  Wanted   \n",
       "4   1371 2018-01-11 21:50:09-05:00      Grandpa 0 days 01:16:47    1922   \n",
       "\n",
       "     Month  \n",
       "0  January  \n",
       "1  January  \n",
       "2  January  \n",
       "3  January  \n",
       "4  January  "
      ]
     },
     "execution_count": 81,
     "metadata": {},
     "output_type": "execute_result"
    }
   ],
   "source": [
    "Grandpa = Grandpa.loc[::-1].reset_index()\n",
    "\n",
    "Seeking = Seeking.loc[::-1].reset_index()\n",
    "\n",
    "Kids = Kids.loc[::-1].reset_index()\n",
    "\n",
    "Girls = Girls.loc[::-1].reset_index()\n",
    "\n",
    "Grandpa.head()"
   ]
  },
  {
   "cell_type": "code",
   "execution_count": 82,
   "id": "48beb795",
   "metadata": {},
   "outputs": [
    {
     "name": "stdout",
     "output_type": "stream",
     "text": [
      "[1376, 27509, 6077, 8172]\n"
     ]
    }
   ],
   "source": [
    "# Checking that my list is correct\n",
    "print(watching_list)"
   ]
  },
  {
   "cell_type": "code",
   "execution_count": 83,
   "id": "641513a2",
   "metadata": {
    "scrolled": false
   },
   "outputs": [
    {
     "data": {
      "image/png": "[encoded data removed]",
      "text/plain": [
       "<Figure size 432x288 with 1 Axes>"
      ]
     },
     "metadata": {},
     "output_type": "display_data"
    }
   ],
   "source": [
    "import matplotlib.pyplot as plt\n",
    "import numpy as np\n",
    "\n",
    "y = np.array(watching_list)\n",
    "my_labels = ['Grandpa', 'Mom and Dad', 'Kids', 'The Girls']\n",
    "\n",
    "plt.pie(y, labels = my_labels)\n",
    "plt.legend(title = 'Netflix Profiles', bbox_to_anchor = (1.05, 1.0), loc = 'lower right')\n",
    "plt.show()"
   ]
  },
  {
   "cell_type": "code",
   "execution_count": 84,
   "id": "50327fe5",
   "metadata": {},
   "outputs": [
    {
     "data": {
      "text/html": [
       "<div>\n",
       "<style scoped>\n",
       "    .dataframe tbody tr th:only-of-type {\n",
       "        vertical-align: middle;\n",
       "    }\n",
       "\n",
       "    .dataframe tbody tr th {\n",
       "        vertical-align: top;\n",
       "    }\n",
       "\n",
       "    .dataframe thead th {\n",
       "        text-align: right;\n",
       "    }\n",
       "</style>\n",
       "<table border=\"1\" class=\"dataframe\">\n",
       "  <thead>\n",
       "    <tr style=\"text-align: right;\">\n",
       "      <th></th>\n",
       "      <th>index</th>\n",
       "      <th>Start Time</th>\n",
       "      <th>Profile Name</th>\n",
       "      <th>Duration</th>\n",
       "      <th>Title</th>\n",
       "      <th>Month</th>\n",
       "      <th>Count</th>\n",
       "    </tr>\n",
       "  </thead>\n",
       "  <tbody>\n",
       "    <tr>\n",
       "      <th>0</th>\n",
       "      <td>1375</td>\n",
       "      <td>2018-01-07 23:15:11-05:00</td>\n",
       "      <td>1</td>\n",
       "      <td>0 days 00:25:02</td>\n",
       "      <td>Bright</td>\n",
       "      <td>January</td>\n",
       "      <td>1</td>\n",
       "    </tr>\n",
       "    <tr>\n",
       "      <th>1</th>\n",
       "      <td>1374</td>\n",
       "      <td>2018-01-09 21:48:47-05:00</td>\n",
       "      <td>1</td>\n",
       "      <td>0 days 00:27:54</td>\n",
       "      <td>Bright</td>\n",
       "      <td>January</td>\n",
       "      <td>2</td>\n",
       "    </tr>\n",
       "    <tr>\n",
       "      <th>2</th>\n",
       "      <td>1373</td>\n",
       "      <td>2018-01-10 06:50:33-05:00</td>\n",
       "      <td>1</td>\n",
       "      <td>0 days 01:11:03</td>\n",
       "      <td>Bright</td>\n",
       "      <td>January</td>\n",
       "      <td>3</td>\n",
       "    </tr>\n",
       "    <tr>\n",
       "      <th>3</th>\n",
       "      <td>1372</td>\n",
       "      <td>2018-01-10 22:19:20-05:00</td>\n",
       "      <td>1</td>\n",
       "      <td>0 days 00:52:52</td>\n",
       "      <td>Wanted</td>\n",
       "      <td>January</td>\n",
       "      <td>4</td>\n",
       "    </tr>\n",
       "    <tr>\n",
       "      <th>4</th>\n",
       "      <td>1371</td>\n",
       "      <td>2018-01-11 21:50:09-05:00</td>\n",
       "      <td>1</td>\n",
       "      <td>0 days 01:16:47</td>\n",
       "      <td>1922</td>\n",
       "      <td>January</td>\n",
       "      <td>5</td>\n",
       "    </tr>\n",
       "  </tbody>\n",
       "</table>\n",
       "</div>"
      ],
      "text/plain": [
       "   index                Start Time  Profile Name        Duration   Title  \\\n",
       "0   1375 2018-01-07 23:15:11-05:00             1 0 days 00:25:02  Bright   \n",
       "1   1374 2018-01-09 21:48:47-05:00             1 0 days 00:27:54  Bright   \n",
       "2   1373 2018-01-10 06:50:33-05:00             1 0 days 01:11:03  Bright   \n",
       "3   1372 2018-01-10 22:19:20-05:00             1 0 days 00:52:52  Wanted   \n",
       "4   1371 2018-01-11 21:50:09-05:00             1 0 days 01:16:47    1922   \n",
       "\n",
       "     Month  Count  \n",
       "0  January      1  \n",
       "1  January      2  \n",
       "2  January      3  \n",
       "3  January      4  \n",
       "4  January      5  "
      ]
     },
     "execution_count": 84,
     "metadata": {},
     "output_type": "execute_result"
    }
   ],
   "source": [
    "# Beginning analysis for multiple line graphs. I am renaming each profile as 1. \n",
    "# Works because I already seperated each profile into their own dataframe\n",
    "\n",
    "Grandpa['Profile Name'] = 1\n",
    "Grandpa['Count'] = Grandpa['Profile Name'].cumsum()\n",
    "Grandpa.head()"
   ]
  },
  {
   "cell_type": "code",
   "execution_count": 85,
   "id": "6ee74f56",
   "metadata": {
    "scrolled": true
   },
   "outputs": [
    {
     "data": {
      "text/html": [
       "<div>\n",
       "<style scoped>\n",
       "    .dataframe tbody tr th:only-of-type {\n",
       "        vertical-align: middle;\n",
       "    }\n",
       "\n",
       "    .dataframe tbody tr th {\n",
       "        vertical-align: top;\n",
       "    }\n",
       "\n",
       "    .dataframe thead th {\n",
       "        text-align: right;\n",
       "    }\n",
       "</style>\n",
       "<table border=\"1\" class=\"dataframe\">\n",
       "  <thead>\n",
       "    <tr style=\"text-align: right;\">\n",
       "      <th></th>\n",
       "      <th>index</th>\n",
       "      <th>Start Time</th>\n",
       "      <th>Profile Name</th>\n",
       "      <th>Duration</th>\n",
       "      <th>Title</th>\n",
       "      <th>Month</th>\n",
       "      <th>Count</th>\n",
       "    </tr>\n",
       "  </thead>\n",
       "  <tbody>\n",
       "    <tr>\n",
       "      <th>0</th>\n",
       "      <td>34961</td>\n",
       "      <td>2010-11-28 14:49:28-05:00</td>\n",
       "      <td>1</td>\n",
       "      <td>0 days 00:50:57</td>\n",
       "      <td>Christmas Classics: Vol. 1</td>\n",
       "      <td>November</td>\n",
       "      <td>1</td>\n",
       "    </tr>\n",
       "    <tr>\n",
       "      <th>1</th>\n",
       "      <td>34960</td>\n",
       "      <td>2010-11-28 14:58:58-05:00</td>\n",
       "      <td>1</td>\n",
       "      <td>0 days 00:00:41</td>\n",
       "      <td>Monsters, Inc.</td>\n",
       "      <td>November</td>\n",
       "      <td>2</td>\n",
       "    </tr>\n",
       "    <tr>\n",
       "      <th>2</th>\n",
       "      <td>34959</td>\n",
       "      <td>2010-11-28 16:09:03-05:00</td>\n",
       "      <td>1</td>\n",
       "      <td>0 days 01:34:01</td>\n",
       "      <td>Race to Witch Mountain</td>\n",
       "      <td>November</td>\n",
       "      <td>3</td>\n",
       "    </tr>\n",
       "    <tr>\n",
       "      <th>3</th>\n",
       "      <td>34958</td>\n",
       "      <td>2010-11-28 16:42:57-05:00</td>\n",
       "      <td>1</td>\n",
       "      <td>0 days 01:37:51</td>\n",
       "      <td>The Princess and the Frog</td>\n",
       "      <td>November</td>\n",
       "      <td>4</td>\n",
       "    </tr>\n",
       "    <tr>\n",
       "      <th>4</th>\n",
       "      <td>34957</td>\n",
       "      <td>2010-11-28 21:11:19-05:00</td>\n",
       "      <td>1</td>\n",
       "      <td>0 days 01:35:04</td>\n",
       "      <td>Legion</td>\n",
       "      <td>November</td>\n",
       "      <td>5</td>\n",
       "    </tr>\n",
       "  </tbody>\n",
       "</table>\n",
       "</div>"
      ],
      "text/plain": [
       "   index                Start Time  Profile Name        Duration  \\\n",
       "0  34961 2010-11-28 14:49:28-05:00             1 0 days 00:50:57   \n",
       "1  34960 2010-11-28 14:58:58-05:00             1 0 days 00:00:41   \n",
       "2  34959 2010-11-28 16:09:03-05:00             1 0 days 01:34:01   \n",
       "3  34958 2010-11-28 16:42:57-05:00             1 0 days 01:37:51   \n",
       "4  34957 2010-11-28 21:11:19-05:00             1 0 days 01:35:04   \n",
       "\n",
       "                        Title     Month  Count  \n",
       "0  Christmas Classics: Vol. 1  November      1  \n",
       "1              Monsters, Inc.  November      2  \n",
       "2      Race to Witch Mountain  November      3  \n",
       "3   The Princess and the Frog  November      4  \n",
       "4                      Legion  November      5  "
      ]
     },
     "execution_count": 85,
     "metadata": {},
     "output_type": "execute_result"
    }
   ],
   "source": [
    "Seeking['Profile Name'] = 1\n",
    "Seeking['Count'] = Seeking['Profile Name'].cumsum()\n",
    "Seeking.head()"
   ]
  },
  {
   "cell_type": "code",
   "execution_count": 86,
   "id": "6cd5abe6",
   "metadata": {
    "scrolled": true
   },
   "outputs": [
    {
     "data": {
      "text/html": [
       "<div>\n",
       "<style scoped>\n",
       "    .dataframe tbody tr th:only-of-type {\n",
       "        vertical-align: middle;\n",
       "    }\n",
       "\n",
       "    .dataframe tbody tr th {\n",
       "        vertical-align: top;\n",
       "    }\n",
       "\n",
       "    .dataframe thead th {\n",
       "        text-align: right;\n",
       "    }\n",
       "</style>\n",
       "<table border=\"1\" class=\"dataframe\">\n",
       "  <thead>\n",
       "    <tr style=\"text-align: right;\">\n",
       "      <th></th>\n",
       "      <th>index</th>\n",
       "      <th>Start Time</th>\n",
       "      <th>Profile Name</th>\n",
       "      <th>Duration</th>\n",
       "      <th>Title</th>\n",
       "      <th>Month</th>\n",
       "      <th>Count</th>\n",
       "    </tr>\n",
       "  </thead>\n",
       "  <tbody>\n",
       "    <tr>\n",
       "      <th>0</th>\n",
       "      <td>7452</td>\n",
       "      <td>2010-11-28 14:49:28-05:00</td>\n",
       "      <td>1</td>\n",
       "      <td>0 days 00:50:57</td>\n",
       "      <td>Christmas Classics: Vol. 1</td>\n",
       "      <td>November</td>\n",
       "      <td>1</td>\n",
       "    </tr>\n",
       "    <tr>\n",
       "      <th>1</th>\n",
       "      <td>7451</td>\n",
       "      <td>2010-11-28 14:58:58-05:00</td>\n",
       "      <td>1</td>\n",
       "      <td>0 days 00:00:41</td>\n",
       "      <td>Monsters, Inc.</td>\n",
       "      <td>November</td>\n",
       "      <td>2</td>\n",
       "    </tr>\n",
       "    <tr>\n",
       "      <th>2</th>\n",
       "      <td>7450</td>\n",
       "      <td>2010-11-28 16:09:03-05:00</td>\n",
       "      <td>1</td>\n",
       "      <td>0 days 01:34:01</td>\n",
       "      <td>Race to Witch Mountain</td>\n",
       "      <td>November</td>\n",
       "      <td>3</td>\n",
       "    </tr>\n",
       "    <tr>\n",
       "      <th>3</th>\n",
       "      <td>7449</td>\n",
       "      <td>2010-11-28 16:42:57-05:00</td>\n",
       "      <td>1</td>\n",
       "      <td>0 days 01:37:51</td>\n",
       "      <td>The Princess and the Frog</td>\n",
       "      <td>November</td>\n",
       "      <td>4</td>\n",
       "    </tr>\n",
       "    <tr>\n",
       "      <th>4</th>\n",
       "      <td>7448</td>\n",
       "      <td>2010-12-01 17:35:32-05:00</td>\n",
       "      <td>1</td>\n",
       "      <td>0 days 01:29:51</td>\n",
       "      <td>Anastasia</td>\n",
       "      <td>December</td>\n",
       "      <td>5</td>\n",
       "    </tr>\n",
       "  </tbody>\n",
       "</table>\n",
       "</div>"
      ],
      "text/plain": [
       "   index                Start Time  Profile Name        Duration  \\\n",
       "0   7452 2010-11-28 14:49:28-05:00             1 0 days 00:50:57   \n",
       "1   7451 2010-11-28 14:58:58-05:00             1 0 days 00:00:41   \n",
       "2   7450 2010-11-28 16:09:03-05:00             1 0 days 01:34:01   \n",
       "3   7449 2010-11-28 16:42:57-05:00             1 0 days 01:37:51   \n",
       "4   7448 2010-12-01 17:35:32-05:00             1 0 days 01:29:51   \n",
       "\n",
       "                        Title     Month  Count  \n",
       "0  Christmas Classics: Vol. 1  November      1  \n",
       "1              Monsters, Inc.  November      2  \n",
       "2      Race to Witch Mountain  November      3  \n",
       "3   The Princess and the Frog  November      4  \n",
       "4                   Anastasia  December      5  "
      ]
     },
     "execution_count": 86,
     "metadata": {},
     "output_type": "execute_result"
    }
   ],
   "source": [
    "Kids['Profile Name'] = 1\n",
    "Kids['Count'] = Kids['Profile Name'].cumsum()\n",
    "Kids.head()"
   ]
  },
  {
   "cell_type": "code",
   "execution_count": 87,
   "id": "1fe58171",
   "metadata": {
    "scrolled": false
   },
   "outputs": [
    {
     "data": {
      "text/html": [
       "<div>\n",
       "<style scoped>\n",
       "    .dataframe tbody tr th:only-of-type {\n",
       "        vertical-align: middle;\n",
       "    }\n",
       "\n",
       "    .dataframe tbody tr th {\n",
       "        vertical-align: top;\n",
       "    }\n",
       "\n",
       "    .dataframe thead th {\n",
       "        text-align: right;\n",
       "    }\n",
       "</style>\n",
       "<table border=\"1\" class=\"dataframe\">\n",
       "  <thead>\n",
       "    <tr style=\"text-align: right;\">\n",
       "      <th></th>\n",
       "      <th>index</th>\n",
       "      <th>Start Time</th>\n",
       "      <th>Profile Name</th>\n",
       "      <th>Duration</th>\n",
       "      <th>Title</th>\n",
       "      <th>Month</th>\n",
       "      <th>Count</th>\n",
       "    </tr>\n",
       "  </thead>\n",
       "  <tbody>\n",
       "    <tr>\n",
       "      <th>0</th>\n",
       "      <td>43133</td>\n",
       "      <td>2014-12-31 14:20:21-05:00</td>\n",
       "      <td>1</td>\n",
       "      <td>0 days 00:51:47</td>\n",
       "      <td>American Horror Story: Murder House: Pilot (Ep...</td>\n",
       "      <td>December</td>\n",
       "      <td>1</td>\n",
       "    </tr>\n",
       "    <tr>\n",
       "      <th>1</th>\n",
       "      <td>43132</td>\n",
       "      <td>2014-12-31 14:33:35-05:00</td>\n",
       "      <td>1</td>\n",
       "      <td>0 days 00:22:31</td>\n",
       "      <td>That '70s Show: Season 1: Eric's Burger Job (E...</td>\n",
       "      <td>December</td>\n",
       "      <td>2</td>\n",
       "    </tr>\n",
       "    <tr>\n",
       "      <th>2</th>\n",
       "      <td>43131</td>\n",
       "      <td>2014-12-31 14:56:49-05:00</td>\n",
       "      <td>1</td>\n",
       "      <td>0 days 00:12:30</td>\n",
       "      <td>That '70s Show: Season 1: The Keg (Episode 6)</td>\n",
       "      <td>December</td>\n",
       "      <td>3</td>\n",
       "    </tr>\n",
       "    <tr>\n",
       "      <th>3</th>\n",
       "      <td>43130</td>\n",
       "      <td>2015-01-03 19:58:04-05:00</td>\n",
       "      <td>1</td>\n",
       "      <td>0 days 01:30:28</td>\n",
       "      <td>White Chicks</td>\n",
       "      <td>January</td>\n",
       "      <td>4</td>\n",
       "    </tr>\n",
       "    <tr>\n",
       "      <th>4</th>\n",
       "      <td>43129</td>\n",
       "      <td>2015-01-15 13:22:19-05:00</td>\n",
       "      <td>1</td>\n",
       "      <td>0 days 00:22:23</td>\n",
       "      <td>That '70s Show: Season 1: Drive-In (Episode 8)</td>\n",
       "      <td>January</td>\n",
       "      <td>5</td>\n",
       "    </tr>\n",
       "  </tbody>\n",
       "</table>\n",
       "</div>"
      ],
      "text/plain": [
       "   index                Start Time  Profile Name        Duration  \\\n",
       "0  43133 2014-12-31 14:20:21-05:00             1 0 days 00:51:47   \n",
       "1  43132 2014-12-31 14:33:35-05:00             1 0 days 00:22:31   \n",
       "2  43131 2014-12-31 14:56:49-05:00             1 0 days 00:12:30   \n",
       "3  43130 2015-01-03 19:58:04-05:00             1 0 days 01:30:28   \n",
       "4  43129 2015-01-15 13:22:19-05:00             1 0 days 00:22:23   \n",
       "\n",
       "                                               Title     Month  Count  \n",
       "0  American Horror Story: Murder House: Pilot (Ep...  December      1  \n",
       "1  That '70s Show: Season 1: Eric's Burger Job (E...  December      2  \n",
       "2      That '70s Show: Season 1: The Keg (Episode 6)  December      3  \n",
       "3                                       White Chicks   January      4  \n",
       "4     That '70s Show: Season 1: Drive-In (Episode 8)   January      5  "
      ]
     },
     "execution_count": 87,
     "metadata": {},
     "output_type": "execute_result"
    }
   ],
   "source": [
    "Girls['Profile Name'] = 1\n",
    "Girls['Count'] = Girls['Profile Name'].cumsum()\n",
    "Girls.head()"
   ]
  },
  {
   "cell_type": "code",
   "execution_count": 88,
   "id": "fa7f4751",
   "metadata": {
    "scrolled": true
   },
   "outputs": [
    {
     "data": {
      "image/png": "[encoded data removed]",
      "text/plain": [
       "<Figure size 432x288 with 1 Axes>"
      ]
     },
     "metadata": {
      "needs_background": "light"
     },
     "output_type": "display_data"
    }
   ],
   "source": [
    "# Displaying the amount of times watched across time\n",
    "\n",
    "import matplotlib.pyplot as plt\n",
    "import pandas as pd\n",
    "\n",
    "ax = Grandpa.plot(x='Count', y='Start Time', label = 'Grandpa')\n",
    "Seeking.plot(ax=ax, x='Count', y='Start Time', label = 'Mom and Dad')\n",
    "Kids.plot(ax=ax, x='Count', y='Start Time', label = 'Kids')\n",
    "Girls.plot(ax=ax, x='Count', y='Start Time', label = 'The Girls', title='Watch Counts Over Time')\n",
    "\n",
    "plt.legend(title = 'Netflix Profiles', bbox_to_anchor = (1.05, 1.0), loc = 'upper left')\n",
    "\n",
    "plt.show()"
   ]
  },
  {
   "cell_type": "code",
   "execution_count": 90,
   "id": "d0e11181",
   "metadata": {},
   "outputs": [],
   "source": [
    "# Converting duration to seconds then minutes\n",
    "import datetime\n",
    "\n",
    "df['DurationInMin'] = df[\"Duration\"].dt.total_seconds()/60"
   ]
  },
  {
   "cell_type": "code",
   "execution_count": 91,
   "id": "9a9d3254",
   "metadata": {},
   "outputs": [
    {
     "name": "stdout",
     "output_type": "stream",
     "text": [
      "0        23.366667\n",
      "1        12.500000\n",
      "2        40.850000\n",
      "3        33.733333\n",
      "4         5.116667\n",
      "           ...    \n",
      "43129    22.383333\n",
      "43130    90.466667\n",
      "43131    12.500000\n",
      "43132    22.516667\n",
      "43133    51.783333\n",
      "Name: DurationInMin, Length: 43134, dtype: float64\n"
     ]
    }
   ],
   "source": [
    "# Checking that Duration was converted to minutes\n",
    "print(df[\"DurationInMin\"])"
   ]
  },
  {
   "cell_type": "code",
   "execution_count": 92,
   "id": "1552a44f",
   "metadata": {
    "scrolled": true
   },
   "outputs": [
    {
     "name": "stdout",
     "output_type": "stream",
     "text": [
      "All values are in minutes.\n",
      "\n",
      "Average Duration: 25.31676596961426\n",
      "Median Duration: 21.566666666666666\n",
      "Max Duration: 1007.1500000000001 \n",
      "    ^We must have left the TV on, oops\n",
      "Min Duration: 0.016666666666666666\n",
      "Standard Deviation of Duration: 26.128126535718348\n"
     ]
    }
   ],
   "source": [
    "# Statistical Data Analysis\n",
    "\n",
    "print('All values are in minutes.\\n')\n",
    "\n",
    "print('Average Duration:', df[\"DurationInMin\"].mean())\n",
    "\n",
    "print('Median Duration:', df[\"DurationInMin\"].median())\n",
    "\n",
    "print('Max Duration:', df[\"DurationInMin\"].max(), '\\n    ^We must have left the TV on, oops')\n",
    "\n",
    "print('Min Duration:', df[\"DurationInMin\"].min())\n",
    "\n",
    "print('Standard Deviation of Duration:', df[\"DurationInMin\"].std())"
   ]
  },
  {
   "cell_type": "code",
   "execution_count": 100,
   "id": "ceeb9475",
   "metadata": {
    "scrolled": true
   },
   "outputs": [],
   "source": [
    "# Adding month column\n",
    "\n",
    "Grandpa['month'] = Grandpa['Start Time'].dt.month\n",
    "\n",
    "Seeking['month'] = Seeking['Start Time'].dt.month\n",
    "\n",
    "Kids['month'] = Kids['Start Time'].dt.month\n",
    "\n",
    "Girls['month'] = Girls['Start Time'].dt.month"
   ]
  },
  {
   "cell_type": "code",
   "execution_count": 101,
   "id": "e0e78de6",
   "metadata": {
    "scrolled": false
   },
   "outputs": [
    {
     "data": {
      "image/png": "[encoded data removed]",
      "text/plain": [
       "<Figure size 1440x720 with 1 Axes>"
      ]
     },
     "metadata": {
      "needs_background": "light"
     },
     "output_type": "display_data"
    }
   ],
   "source": [
    "# Monthly summary of when each profile watches netflix the most\n",
    "\n",
    "Grandpa['month'] = pd.Categorical(Grandpa['month'], categories=\n",
    "    [1,2,3,4,5,6,7,8,9,10,11,12],\n",
    "    ordered=True)\n",
    "Grandpa_month = Grandpa['month'].value_counts()\n",
    "Grandpa_month = Grandpa_month.sort_index()\n",
    "\n",
    "Seeking['month'] = pd.Categorical(Seeking['month'], categories=\n",
    "    [1,2,3,4,5,6,7,8,9,10,11,12],\n",
    "    ordered=True)\n",
    "Seeking_month = Seeking['month'].value_counts()\n",
    "Seeking_month = Seeking_month.sort_index()\n",
    "\n",
    "Kids['month'] = pd.Categorical(Kids['month'], categories=\n",
    "    [1,2,3,4,5,6,7,8,9,10,11,12],\n",
    "    ordered=True)\n",
    "Kids_month = Kids['month'].value_counts()\n",
    "Kids_month = Kids_month.sort_index()\n",
    "\n",
    "Girls['month'] = pd.Categorical(Girls['month'], categories=\n",
    "    [1,2,3,4,5,6,7,8,9,10,11,12],\n",
    "    ordered=True)\n",
    "Girls_month = Girls['month'].value_counts()\n",
    "Girls_month = Girls_month.sort_index()\n",
    "\n",
    "ax = Grandpa_month.plot(kind='line', figsize=(20,10), label = 'Grandpa')\n",
    "Seeking_month.plot(ax=ax, label = 'Mom and Dad')\n",
    "Kids_month.plot(ax=ax, label = 'Kids')\n",
    "Girls_month.plot(ax=ax, label = 'The Girls', title='Watching Habits by Month')\n",
    "\n",
    "plt.legend(title = 'Netflix Profiles', bbox_to_anchor = (1.05, 1.0), loc = 'upper left')\n",
    "\n",
    "plt.show()"
   ]
  }
 ],
 "metadata": {
  "kernelspec": {
   "display_name": "Python 3 (ipykernel)",
   "language": "python",
   "name": "python3"
  },
  "language_info": {
   "codemirror_mode": {
    "name": "ipython",
    "version": 3
   },
   "file_extension": ".py",
   "mimetype": "text/x-python",
   "name": "python",
   "nbconvert_exporter": "python",
   "pygments_lexer": "ipython3",
   "version": "3.9.7"
  }
 },
 "nbformat": 4,
 "nbformat_minor": 5
}
