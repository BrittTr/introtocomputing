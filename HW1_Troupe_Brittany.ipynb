{
 "cells": [
  {
   "cell_type": "code",
   "execution_count": 1,
   "id": "028f463f",
   "metadata": {
    "scrolled": true
   },
   "outputs": [
    {
     "name": "stdout",
     "output_type": "stream",
     "text": [
      "[30, 35, 40, 45, 50, 55, 60]\n",
      "[60, 55, 50, 45, 40, 35, 30]\n",
      "[65, 60, 55, 50, 45, 40, 35, 30]\n"
     ]
    }
   ],
   "source": [
    "nums = list(range(30, 61, 5))\n",
    "print(nums)\n",
    "\n",
    "print(nums[:: -1])\n",
    "\n",
    "nums.append(65)\n",
    "nums = nums[:: -1]\n",
    "print(nums)"
   ]
  },
  {
   "cell_type": "code",
   "execution_count": 2,
   "id": "412d4837",
   "metadata": {
    "scrolled": true
   },
   "outputs": [
    {
     "name": "stdout",
     "output_type": "stream",
     "text": [
      "[0, 1, 2, 3, 4, 5, 6, 7, 8, 9, 10, 11, 12, 13, 14, 15, 16, 17, 18, 19, 20]\n",
      "[1, 2, 3, 4, 5, 6, 7, 8, 9, 10, 11, 12, 13, 14, 15, 16, 17, 18, 19, 20]\n",
      "20\n",
      "20\n",
      "1\n",
      "210\n"
     ]
    }
   ],
   "source": [
    "newlist = []\n",
    "for i in range(0,21):\n",
    "    newlist.append(i)\n",
    "print(newlist)\n",
    "\n",
    "newlist.remove(0)\n",
    "print(newlist)\n",
    "\n",
    "print(len(newlist))\n",
    "print(max(newlist))\n",
    "print(min(newlist))\n",
    "\n",
    "total = 0\n",
    "for i in newlist:\n",
    "    total += i\n",
    "print(total)"
   ]
  },
  {
   "cell_type": "code",
   "execution_count": 3,
   "id": "e6f3d413",
   "metadata": {},
   "outputs": [
    {
     "name": "stdout",
     "output_type": "stream",
     "text": [
      "when sunny let us play\n",
      "when rainy let us watch TV\n",
      "when cloudy let us walk\n"
     ]
    }
   ],
   "source": [
    "weather = {'sunny': 'play', 'rainy': 'watch TV', 'cloudy': 'walk'}\n",
    "\n",
    "for key, value in weather.items():\n",
    "    print('when', key, 'let us', value)   \n",
    "    \n",
    "weather['snowy'] = 'ski' "
   ]
  },
  {
   "cell_type": "code",
   "execution_count": null,
   "id": "a1edcce8",
   "metadata": {},
   "outputs": [],
   "source": []
  }
 ],
 "metadata": {
  "kernelspec": {
   "display_name": "Python 3 (ipykernel)",
   "language": "python",
   "name": "python3"
  },
  "language_info": {
   "codemirror_mode": {
    "name": "ipython",
    "version": 3
   },
   "file_extension": ".py",
   "mimetype": "text/x-python",
   "name": "python",
   "nbconvert_exporter": "python",
   "pygments_lexer": "ipython3",
   "version": "3.9.7"
  }
 },
 "nbformat": 4,
 "nbformat_minor": 5
}
