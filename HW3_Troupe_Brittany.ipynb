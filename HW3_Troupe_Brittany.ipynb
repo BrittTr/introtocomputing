{
 "cells": [
  {
   "cell_type": "code",
   "execution_count": 1,
   "id": "23ad0b50",
   "metadata": {},
   "outputs": [
    {
     "name": "stdout",
     "output_type": "stream",
     "text": [
      "77\n"
     ]
    }
   ],
   "source": [
    "# Question 1, Q1\n",
    "\n",
    "marks = {'Andy':88, 'Amy':66, 'James':90, 'Jules':55, 'Arthur':77}\n",
    "\n",
    "def student_grades(name):\n",
    "    for key, value in marks.items():\n",
    "        if key == name:\n",
    "            return value\n",
    "    if key != name:\n",
    "        return 'Cannot find student\\'s name'\n",
    "\n",
    "print(student_grades('Arthur'))"
   ]
  },
  {
   "cell_type": "code",
   "execution_count": 2,
   "id": "c77d2c24",
   "metadata": {},
   "outputs": [
    {
     "name": "stdout",
     "output_type": "stream",
     "text": [
      "75.2\n"
     ]
    }
   ],
   "source": [
    "# Question 1, Q2\n",
    "\n",
    "marks = {'Andy':88, 'Amy':66, 'James':90, 'Jules':55, 'Arthur':77}\n",
    "\n",
    "\n",
    "def student_avg():\n",
    "    total = 0\n",
    "    for grades in marks.values():\n",
    "        total += grades\n",
    "    mean = total / len(marks.values())\n",
    "    return mean\n",
    "    \n",
    "print(student_avg())"
   ]
  },
  {
   "cell_type": "code",
   "execution_count": 3,
   "id": "e505dc57",
   "metadata": {},
   "outputs": [
    {
     "name": "stdout",
     "output_type": "stream",
     "text": [
      "0 0\n",
      "1 1\n",
      "2 4\n",
      "3 9\n",
      "4 16\n",
      "5 25\n",
      "6 36\n",
      "7 49\n",
      "greater than 8\n"
     ]
    }
   ],
   "source": [
    "# Question 2\n",
    "\n",
    "def nnum(num):\n",
    "    n=0\n",
    "    while n < num:\n",
    "        print(n, n**2)\n",
    "        n += 1\n",
    "    if n >= num:\n",
    "        print('greater than', num)\n",
    "\n",
    "nnum(8)"
   ]
  },
  {
   "cell_type": "code",
   "execution_count": 4,
   "id": "3eba8700",
   "metadata": {},
   "outputs": [
    {
     "data": {
      "text/plain": [
       "45"
      ]
     },
     "execution_count": 4,
     "metadata": {},
     "output_type": "execute_result"
    }
   ],
   "source": [
    "# Question 3\n",
    "\n",
    "def sums1(num):\n",
    "    n = 0\n",
    "    total = 0\n",
    "    while n < num:\n",
    "        n += 1\n",
    "        total += n\n",
    "    return total\n",
    "\n",
    "sums1(9)"
   ]
  },
  {
   "cell_type": "code",
   "execution_count": 5,
   "id": "6c155a27",
   "metadata": {},
   "outputs": [
    {
     "name": "stdout",
     "output_type": "stream",
     "text": [
      "1\n",
      "3\n",
      "6\n",
      "10\n",
      "15\n",
      "21\n",
      "28\n",
      "36\n",
      "45\n"
     ]
    }
   ],
   "source": [
    "# Question 4\n",
    "\n",
    "def sums2(num):\n",
    "    n = 0\n",
    "    total = 0\n",
    "    for n in range(num):\n",
    "        n += 1\n",
    "        total += n\n",
    "        print(total) \n",
    "\n",
    "sums2(9)"
   ]
  },
  {
   "cell_type": "code",
   "execution_count": 6,
   "id": "a25fb9ed",
   "metadata": {},
   "outputs": [
    {
     "name": "stdout",
     "output_type": "stream",
     "text": [
      "50.0\n",
      "4950\n",
      "28.577380332470412\n"
     ]
    }
   ],
   "source": [
    "# Question 5\n",
    "\n",
    "import statistics\n",
    "\n",
    "def stats():\n",
    "    mylist = list(range(1, 100))\n",
    "    mean = sum(mylist) / len(mylist)\n",
    "    print(mean)\n",
    "    print(sum(mylist))\n",
    "    print(statistics.pstdev(mylist))\n",
    "\n",
    "stats()"
   ]
  },
  {
   "cell_type": "code",
   "execution_count": 7,
   "id": "9fb9421c",
   "metadata": {},
   "outputs": [
    {
     "data": {
      "text/plain": [
       "-1"
      ]
     },
     "execution_count": 7,
     "metadata": {},
     "output_type": "execute_result"
    }
   ],
   "source": [
    "# Question 6, Q1\n",
    "\n",
    "def minimal(v1,v2,v3,v4):\n",
    "    if v1 < v2 and v1 < v3 and v1 < v4:\n",
    "        print(v1)\n",
    "    elif v2 < v1 and v2 < v3 and v2 < v4:\n",
    "        print(v2)\n",
    "    elif v3 < v2 and v3 < v1 and v3 < v4:\n",
    "        print(v3)\n",
    "    else: \n",
    "        return v4\n",
    "        \n",
    "minimal(4,0,2,-1)           "
   ]
  },
  {
   "cell_type": "code",
   "execution_count": 8,
   "id": "0d9445a8",
   "metadata": {},
   "outputs": [
    {
     "name": "stdout",
     "output_type": "stream",
     "text": [
      "-3\n"
     ]
    }
   ],
   "source": [
    "# Question 6, Q2\n",
    "\n",
    "def minimal(v1,v2,v3,v4):\n",
    "    if v1 < v2 and v1 < v3 and v1 < v4:\n",
    "        print(v1)\n",
    "    elif v2 < v1 and v2 < v3 and v2 < v4:\n",
    "        print(v2)\n",
    "    elif v3 < v2 and v3 < v1 and v3 < v4:\n",
    "        print(v3)\n",
    "    else: \n",
    "        return v4\n",
    "    \n",
    "def minimal2(*args):\n",
    "    return minimal(*args)\n",
    "\n",
    "minimal2(1,2,-3,4)"
   ]
  }
 ],
 "metadata": {
  "kernelspec": {
   "display_name": "Python 3 (ipykernel)",
   "language": "python",
   "name": "python3"
  },
  "language_info": {
   "codemirror_mode": {
    "name": "ipython",
    "version": 3
   },
   "file_extension": ".py",
   "mimetype": "text/x-python",
   "name": "python",
   "nbconvert_exporter": "python",
   "pygments_lexer": "ipython3",
   "version": "3.9.7"
  }
 },
 "nbformat": 4,
 "nbformat_minor": 5
}
