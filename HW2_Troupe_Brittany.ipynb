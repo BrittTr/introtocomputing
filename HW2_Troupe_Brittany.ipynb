{
 "cells": [
  {
   "cell_type": "code",
   "execution_count": 1,
   "id": "38666336",
   "metadata": {},
   "outputs": [
    {
     "name": "stdout",
     "output_type": "stream",
     "text": [
      "0\n",
      "1\n",
      "2\n",
      "3\n",
      "4\n"
     ]
    }
   ],
   "source": [
    "# Question 1\n",
    "\n",
    "n = 0\n",
    "while n < 10:\n",
    "    print(n)\n",
    "    n += 1\n",
    "    if n == 5:\n",
    "        break"
   ]
  },
  {
   "cell_type": "code",
   "execution_count": 2,
   "id": "f13d7730",
   "metadata": {},
   "outputs": [
    {
     "name": "stdout",
     "output_type": "stream",
     "text": [
      "0\n",
      "1\n",
      "2\n",
      "3\n",
      "4\n",
      "5 is not less than 5\n"
     ]
    }
   ],
   "source": [
    "# Question 2\n",
    "\n",
    "n = 0\n",
    "while n < 5:\n",
    "    print(n)\n",
    "    n += 1\n",
    "    if n >= 5:\n",
    "        print(n, 'is not less than 5')"
   ]
  },
  {
   "cell_type": "code",
   "execution_count": 3,
   "id": "19b218bf",
   "metadata": {},
   "outputs": [
    {
     "name": "stdout",
     "output_type": "stream",
     "text": [
      "I like peach\n",
      "I like cherry\n",
      "I like banana\n",
      "apple is really a fruit?\n"
     ]
    }
   ],
   "source": [
    "# Question 3\n",
    "\n",
    "favs = ['peach', 'cherry', 'banana', 'apple', 'raspberry']\n",
    "for fruit in favs:\n",
    "    if fruit == 'apple':\n",
    "        print(fruit, 'is really a fruit?')\n",
    "        break\n",
    "    print('I like', fruit)"
   ]
  },
  {
   "cell_type": "code",
   "execution_count": 4,
   "id": "39614bc9",
   "metadata": {},
   "outputs": [
    {
     "name": "stdout",
     "output_type": "stream",
     "text": [
      "465\n"
     ]
    }
   ],
   "source": [
    "# Question 4\n",
    "\n",
    "n = 0\n",
    "z = 0\n",
    "while n < 30:\n",
    "    n += 1\n",
    "    z += n\n",
    "print(z)"
   ]
  },
  {
   "cell_type": "code",
   "execution_count": 5,
   "id": "9bb90339",
   "metadata": {},
   "outputs": [
    {
     "name": "stdout",
     "output_type": "stream",
     "text": [
      "D\n"
     ]
    }
   ],
   "source": [
    "# Question 5\n",
    "\n",
    "grade = 69\n",
    "\n",
    "if grade >= 90:\n",
    "    print('A')\n",
    "elif grade >= 80:\n",
    "    print('B')\n",
    "elif grade >= 70:\n",
    "    print('C')\n",
    "elif grade >= 60:\n",
    "    print('D')\n",
    "else:\n",
    "    print('F')"
   ]
  },
  {
   "cell_type": "code",
   "execution_count": 6,
   "id": "4597555e",
   "metadata": {},
   "outputs": [
    {
     "name": "stdout",
     "output_type": "stream",
     "text": [
      "Andy 88\n",
      "Amy 66\n",
      "James 90\n",
      "Jules 55\n",
      "Arthur 77\n"
     ]
    }
   ],
   "source": [
    "# Question 6\n",
    "\n",
    "marks = {'Andy':88, 'Amy':66, 'James':90, 'Jules':55, 'Arthur':77}\n",
    "\n",
    "# 6.1\n",
    "for student in marks:\n",
    "    print(student, marks[student])"
   ]
  },
  {
   "cell_type": "code",
   "execution_count": 7,
   "id": "a6a988c6",
   "metadata": {},
   "outputs": [
    {
     "name": "stdout",
     "output_type": "stream",
     "text": [
      "75.2\n",
      "90\n",
      "55\n"
     ]
    }
   ],
   "source": [
    "# Question 6\n",
    "\n",
    "marks = {'Andy':88, 'Amy':66, 'James':90, 'Jules':55, 'Arthur':77}\n",
    "\n",
    "# 6.2\n",
    "total = 0\n",
    "for grades in marks.values():\n",
    "    total += grades\n",
    "    mean = total / len(marks.values())\n",
    "    m = max(marks.values())\n",
    "    n = min(marks.values())\n",
    "print(mean)\n",
    "print(m)\n",
    "print(n)"
   ]
  },
  {
   "cell_type": "code",
   "execution_count": 8,
   "id": "9b47c800",
   "metadata": {},
   "outputs": [
    {
     "name": "stdout",
     "output_type": "stream",
     "text": [
      "Andy\n",
      "Amy\n"
     ]
    }
   ],
   "source": [
    "# Question 6\n",
    "\n",
    "marks = {'Andy':88, 'Amy':66, 'James':90, 'Jules':55, 'Arthur':77}\n",
    "\n",
    "# 6.3\n",
    "for students in marks.keys():\n",
    "    if students[0] == 'J':\n",
    "        break\n",
    "    print(students)"
   ]
  },
  {
   "cell_type": "code",
   "execution_count": 9,
   "id": "7497aa20",
   "metadata": {},
   "outputs": [
    {
     "name": "stdout",
     "output_type": "stream",
     "text": [
      "Andy\n",
      "Amy\n",
      "Arthur\n"
     ]
    }
   ],
   "source": [
    "# Question 6\n",
    "\n",
    "marks = {'Andy':88, 'Amy':66, 'James':90, 'Jules':55, 'Arthur':77}\n",
    "\n",
    "# 6.4\n",
    "for students in marks.keys():\n",
    "    if students[0] == 'J':\n",
    "        continue\n",
    "    else:\n",
    "        print(students)"
   ]
  }
 ],
 "metadata": {
  "kernelspec": {
   "display_name": "Python 3 (ipykernel)",
   "language": "python",
   "name": "python3"
  },
  "language_info": {
   "codemirror_mode": {
    "name": "ipython",
    "version": 3
   },
   "file_extension": ".py",
   "mimetype": "text/x-python",
   "name": "python",
   "nbconvert_exporter": "python",
   "pygments_lexer": "ipython3",
   "version": "3.9.7"
  }
 },
 "nbformat": 4,
 "nbformat_minor": 5
}
